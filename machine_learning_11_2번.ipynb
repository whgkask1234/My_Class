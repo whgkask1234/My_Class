{
 "cells": [
  {
   "cell_type": "markdown",
   "id": "8181c622",
   "metadata": {},
   "source": [
    "<br>\n",
    "\n",
    "# 11주차 과제 2번"
   ]
  },
  {
   "cell_type": "markdown",
   "id": "f83b7027",
   "metadata": {},
   "source": [
    "<br><br>\n",
    "\n",
    "# 5. Lab: CNN with TensorFlow (MNIST)\n",
    "<br>\n",
    "\n",
    "\n",
    "- MNIST without flattening\n",
    "- To classify handwritten digits\n"
   ]
  },
  {
   "cell_type": "markdown",
   "id": "056b62fd",
   "metadata": {},
   "source": [
    "<br>\n",
    "\n",
    "<center>\n",
    "\n",
    "![alt text](CNN.png)"
   ]
  },
  {
   "cell_type": "code",
   "execution_count": 64,
   "id": "0e5203fa",
   "metadata": {},
   "outputs": [],
   "source": [
    "## 5.1. Training\n",
    "import tensorflow as tf\n",
    "import numpy as np\n",
    "import matplotlib.pyplot as plt\n",
    "from tensorflow.keras import layers, models\n",
    "from tensorflow.keras.utils import to_categorical"
   ]
  },
  {
   "cell_type": "code",
   "execution_count": 65,
   "id": "e7e609a4",
   "metadata": {},
   "outputs": [],
   "source": [
    "mnist = tf.keras.datasets.mnist\n",
    "\n",
    "(train_x, train_y), (test_x, test_y) = mnist.load_data()\n",
    "\n",
    "train_x, test_x = train_x/255.0, test_x/255.0\n",
    "train_x.shape\n",
    "train_x = train_x.reshape((train_x.shape[0], 28, 28, 1))\n",
    "test_x = test_x.reshape((test_x.shape[0], 28, 28, 1))"
   ]
  },
  {
   "cell_type": "code",
   "execution_count": 66,
   "id": "fb8b44d9",
   "metadata": {},
   "outputs": [],
   "source": [
    "# input layer\n",
    "input_h =  28  # input height\n",
    "input_w =  28  # input width\n",
    "input_ch = 1   # input channel : Gray scale\n",
    "\n",
    "\n",
    "# 1st convolution layer\n",
    "k1_h = 3\n",
    "k1_w = 3\n",
    "k1_ch = 32\n",
    "p1_h = 2\n",
    "p1_w = 2\n",
    "# (None, 14, 14, 32)\n",
    "\n",
    "# 2nd convolution layer\n",
    "k2_h = 3\n",
    "k2_w = 3\n",
    "k2_ch = 64\n",
    "p2_h = 2\n",
    "p2_w = 2\n",
    "# (None, 7, 7, 64)\n",
    "\n",
    "#3th convolution layer\n",
    "k3_h = 3\n",
    "k3_h = 3\n",
    "k3_ch = 128\n",
    "p3_h = 2\n",
    "p3_w = 2\n",
    "# (None, 7, 7, 128)"
   ]
  },
  {
   "cell_type": "code",
   "execution_count": 67,
   "id": "7765001a",
   "metadata": {},
   "outputs": [],
   "source": [
    "# [batch, height, width, channels]\n",
    "\n",
    "def net(x, weights, biases):\n",
    "    # 1st convolution layer\n",
    "    conv1 = tf.nn.conv2d(x, weights['w1'], strides=[1, 1, 1, 1], padding='SAME')\n",
    "    conv1 = tf.nn.relu(conv1 + biases['b1'])\n",
    "    maxp1 = tf.nn.max_pool(conv1, ksize=[1, p1_h, p1_w, 1], strides=[1, p1_h, p1_w, 1], padding='VALID')\n",
    "#   maxp1 = tf.nn.max_pool(conv1, ksize=[1,p1_h,p1_w,1], strides=[1,p1_h,p1_w,1], padding='VALID')\n",
    "\n",
    "    # 2nd convolution layer\n",
    "    conv2 = tf.nn.conv2d(maxp1, weights['w2'], strides=[1, 1, 1, 1], padding='SAME')\n",
    "    conv2 = tf.nn.relu(conv2 + biases['b2'])\n",
    "    maxp2 = tf.nn.max_pool(conv2, ksize=[1, p2_h, p2_w, 1], strides=[1, p2_h, p2_w, 1], padding='VALID')\n",
    "\n",
    "    conv3 = tf.nn.conv2d(maxp2, weights['w3'], strides=[1, 1, 1, 1], padding='SAME')\n",
    "    conv3 = tf.nn.relu(conv3 + biases['b3'])\n",
    "    maxp3 = tf.nn.max_pool(conv3, ksize=[1, p3_h, p3_w, 1], strides=[1, p3_h, p3_w, 1], padding='SAME')\n",
    "\n",
    "    maxp3_flatten = tf.reshape(maxp3,[-1, 4 * 4 * 128])\n",
    "\n",
    "    # Fully connected layer1\n",
    "    FC1 = tf.add(tf.matmul(maxp3_flatten, weights['wd1']), biases['bd1'])\n",
    "    FC1 = tf.nn.relu(FC1)\n",
    "    \n",
    "    \n",
    "    # Fully connected layer2\n",
    "    \n",
    "    FC2 = tf.add(tf.matmul(FC1, weights['wd2']), biases['bd2'])\n",
    "    FC2 = tf.nn.relu(FC2)\n",
    "    \n",
    "    # output layer\n",
    "    output = tf.add(tf.matmul(FC2, weights['out']), biases['out'])\n",
    "    \n",
    "    return output"
   ]
  },
  {
   "cell_type": "code",
   "execution_count": 68,
   "id": "9658760a",
   "metadata": {},
   "outputs": [],
   "source": [
    "# Loss function\n",
    "tf.compat.v1.disable_eager_execution()\n",
    "x = tf.compat.v1.placeholder(tf.float32, shape=[None, 28, 28, 1])\n",
    "y = tf.compat.v1.placeholder(tf.float32, shape=[None, 10])\n",
    "\n",
    "weights = {\n",
    "    'w1': tf.Variable(tf.random.truncated_normal([3, 3, 1, 32])),  # 1채널 → 32채널\n",
    "    'w2': tf.Variable(tf.random.truncated_normal([3, 3, 32, 64])), # 32채널→ 64채널\n",
    "    'w3': tf.Variable(tf.random.truncated_normal([3, 3, 64, 128])),# 64채널→ 128채널\n",
    "    'wd1': tf.Variable(tf.random.truncated_normal([4*4*128, 256])),\n",
    "    'wd2': tf.Variable(tf.random.truncated_normal([256, 625])),\n",
    "    'out': tf.Variable(tf.random.truncated_normal([625, 10]))\n",
    "}\n",
    "\n",
    "biases = {\n",
    "    'b1': tf.Variable(tf.random.truncated_normal([32])),\n",
    "    'b2': tf.Variable(tf.random.truncated_normal([64])),\n",
    "    'b3': tf.Variable(tf.random.truncated_normal([128])),\n",
    "    'bd1': tf.Variable(tf.random.truncated_normal([256])),\n",
    "    'bd2': tf.Variable(tf.random.truncated_normal([625])),\n",
    "    'out': tf.Variable(tf.random.truncated_normal([10]))\n",
    "}\n",
    "\n",
    "LR = 0.001\n",
    "pred = net(x, weights, biases)\n",
    "loss = tf.nn.softmax_cross_entropy_with_logits(labels=y, logits=pred)\n",
    "loss = tf.reduce_mean(loss)\n",
    "\n",
    "optm = tf.compat.v1.train.AdamOptimizer(learning_rate=LR).minimize(loss)\n",
    "\n",
    "# Optimization\n",
    "\n",
    "n_batch = 50\n",
    "n_iter = 3000\n",
    "n_prt = 250\n",
    "\n",
    "sess = tf.compat.v1.Session()\n",
    "sess.run(tf.compat.v1.global_variables_initializer())\n",
    "\n",
    "loss_record_train = []\n",
    "loss_record_test = []"
   ]
  },
  {
   "cell_type": "code",
   "execution_count": 69,
   "id": "896a2032",
   "metadata": {},
   "outputs": [
    {
     "name": "stdout",
     "output_type": "stream",
     "text": [
      "Iter : 0\n",
      "Train Loss : 736123.75\n",
      "Cost : 841967.9375\n",
      "Iter : 250\n",
      "Train Loss : 14525.728515625\n",
      "Cost : 20919.31640625\n",
      "Iter : 500\n",
      "Train Loss : 9748.013671875\n",
      "Cost : 1224.1424560546875\n",
      "Iter : 750\n",
      "Train Loss : 4054.389404296875\n",
      "Cost : 6158.50830078125\n",
      "Iter : 1000\n",
      "Train Loss : 9123.85546875\n",
      "Cost : 7980.302734375\n",
      "Iter : 1250\n",
      "Train Loss : 11099.0625\n",
      "Cost : 8603.759765625\n",
      "Iter : 1500\n",
      "Train Loss : 1242.7166748046875\n",
      "Cost : 6818.861328125\n",
      "Iter : 1750\n",
      "Train Loss : 1132.78173828125\n",
      "Cost : 6376.46240234375\n",
      "Iter : 2000\n",
      "Train Loss : 1619.595947265625\n",
      "Cost : 1856.1187744140625\n",
      "Iter : 2250\n",
      "Train Loss : 6470.24755859375\n",
      "Cost : 6890.46240234375\n",
      "Iter : 2500\n",
      "Train Loss : 650.0155029296875\n",
      "Cost : 17276.130859375\n",
      "Iter : 2750\n",
      "Train Loss : 0.0\n",
      "Cost : 6099.04248046875\n"
     ]
    }
   ],
   "source": [
    "for epoch in range(n_iter):\n",
    "    # Get a random batch of training data\n",
    "    batch_indices = np.random.choice(train_x.shape[0], size=n_batch, replace=False)\n",
    "    batch_x = train_x[batch_indices]\n",
    "    batch_y = train_y[batch_indices]\n",
    "\n",
    "    batch_x = np.reshape(batch_x, (-1, 28, 28, 1))\n",
    "    # Convert labels to one-hot encoding if necessary\n",
    "    batch_y = tf.keras.utils.to_categorical(batch_y, num_classes=10)  # Adjust num_classes if needed\n",
    "\n",
    "    sess.run(optm, feed_dict={x : batch_x, y : batch_y})\n",
    "\n",
    "    if epoch % n_prt == 0:\n",
    "        # Get a random batch of test data\n",
    "        test_batch_indices = np.random.choice(test_x.shape[0], size=n_batch, replace=False)\n",
    "        test_batch_x = test_x[test_batch_indices]\n",
    "        test_batch_y = test_y[test_batch_indices]\n",
    "\n",
    "        test_batch_x = test_batch_x.reshape((n_batch, input_h, input_w, input_ch))\n",
    "        # Convert labels to one-hot encoding if necessary\n",
    "        test_batch_y = tf.keras.utils.to_categorical(test_batch_y, num_classes=10)  # Adjust num_classes if needed\n",
    "        c1 = sess.run(loss, feed_dict={x: batch_x, y: batch_y})\n",
    "        c2 = sess.run(loss, feed_dict={x: test_batch_x, y: test_batch_y})\n",
    "\n",
    "        loss_record_train.append(c1)\n",
    "        loss_record_test.append(c2)\n",
    "        print(\"Iter : {}\".format(epoch))\n",
    "        print(\"Train Loss : {}\".format(c1))\n",
    "        print(\"Cost : {}\".format(c2))"
   ]
  },
  {
   "cell_type": "code",
   "execution_count": 70,
   "id": "32d6db03",
   "metadata": {},
   "outputs": [
    {
     "data": {
      "image/png": "[encoded data removed]",
      "text/plain": [
       "<Figure size 1000x800 with 1 Axes>"
      ]
     },
     "metadata": {},
     "output_type": "display_data"
    }
   ],
   "source": [
    "plt.figure(figsize = (10,8))\n",
    "plt.plot(np.arange(len(loss_record_train))*n_prt, loss_record_train, 'r', label = 'Train')\n",
    "plt.plot(np.arange(len(loss_record_test))*n_prt, loss_record_test, 'b', label = 'Test')\n",
    "plt.xlabel('Iteration', fontsize = 15)\n",
    "plt.ylabel('Loss', fontsize = 15)\n",
    "plt.legend(fontsize = 12)\n",
    "plt.ylim([0, np.max(loss_record_train)])\n",
    "plt.show()"
   ]
  },
  {
   "cell_type": "markdown",
   "id": "7cded0db",
   "metadata": {},
   "source": [
    "<br>\n",
    "\n",
    "## 5.2. Testing or Evaluating"
   ]
  },
  {
   "cell_type": "code",
   "execution_count": 71,
   "id": "a4000672",
   "metadata": {},
   "outputs": [
    {
     "name": "stdout",
     "output_type": "stream",
     "text": [
      "Accuracy : 96.0\n"
     ]
    }
   ],
   "source": [
    "# Evaluation\n",
    "# Get a random batch of test data\n",
    "\n",
    "test_batch_indices = np.random.choice(test_x.shape[0], size=n_batch, replace=False)\n",
    "test_batch_x = test_x[test_batch_indices]\n",
    "test_batch_y = test_y[test_batch_indices]\n",
    "\n",
    "test_batch_x = test_batch_x.reshape((n_batch, input_h, input_w, input_ch))  # Reshape the batch if needed\n",
    "# Convert labels to one-hot encoding if necessary\n",
    "test_batch_y = tf.keras.utils.to_categorical(test_batch_y, num_classes=10)  # Adjust num_classes if needed\n",
    "\n",
    "my_pred = sess.run(pred, feed_dict={x: test_batch_x.reshape(-1, 28, 28, 1)})\n",
    "my_pred = np.argmax(my_pred, axis=1)\n",
    "\n",
    "labels = np.argmax(test_batch_y, axis=1)\n",
    "\n",
    "accr = np.mean(np.equal(my_pred, labels))\n",
    "print(\"Accuracy : {}\".format(accr*100))\n",
    "# Get a random batch of test data\n",
    "n_batch = 1\n",
    "test_batch_indices = np.random.choice(test_x.shape[0], size=n_batch, replace=False)\n",
    "test_batch_x = test_x[test_batch_indices]\n",
    "test_batch_y = test_y[test_batch_indices]\n",
    "\n",
    "test_batch_x = test_batch_x.reshape((n_batch, input_h, input_w, input_ch))  # Reshape the batch if needed\n",
    "# Convert labels to one-hot encoding if necessary\n",
    "test_batch_y = tf.keras.utils.to_categorical(test_batch_y, num_classes=10)  # Adjust num_classes if needed\n",
    "\n",
    "logits = sess.run(tf.nn.softmax(pred), feed_dict={x: test_batch_x.reshape(-1, 28, 28, 1)})\n",
    "predict = np.argmax(logits)\n"
   ]
  },
  {
   "cell_type": "code",
   "execution_count": 72,
   "id": "157f29c8",
   "metadata": {},
   "outputs": [
    {
     "data": {
      "image/png": "[encoded data removed]",
      "text/plain": [
       "<Figure size 1200x500 with 2 Axes>"
      ]
     },
     "metadata": {},
     "output_type": "display_data"
    }
   ],
   "source": [
    "plt.figure(figsize = (12, 5))\n",
    "plt.subplot(1,2,1)\n",
    "plt.imshow(test_batch_x.reshape(28, 28), 'gray')\n",
    "plt.axis('off')\n",
    "plt.subplot(1,2,2)\n",
    "plt.stem(logits.ravel())\n",
    "plt.show()"
   ]
  },
  {
   "cell_type": "code",
   "execution_count": 73,
   "id": "39a0f241",
   "metadata": {},
   "outputs": [
    {
     "name": "stdout",
     "output_type": "stream",
     "text": [
      "Prediction : 9\n",
      "Probability : [0. 0. 0. 0. 0. 0. 0. 0. 0. 1.]\n"
     ]
    }
   ],
   "source": [
    "np.set_printoptions(precision = 2, suppress = True)\n",
    "print('Prediction : {}'.format(predict))\n",
    "print('Probability : {}'.format(logits.ravel()))"
   ]
  },
  {
   "cell_type": "markdown",
   "id": "7ddb4ef0",
   "metadata": {},
   "source": [
    "# 실습(Debugging)"
   ]
  },
  {
   "cell_type": "code",
   "execution_count": 74,
   "id": "b41092df",
   "metadata": {},
   "outputs": [
    {
     "name": "stdout",
     "output_type": "stream",
     "text": [
      "Iter : 0\n",
      "Train Loss : 708712.6250, Train Accuracy : 10.00%\n",
      "Test  Loss : 1482054.7500, Test  Accuracy : 14.00%\n",
      "Iter : 250\n",
      "Train Loss : 45802.4258, Train Accuracy : 80.00%\n",
      "Test  Loss : 19984.0977, Test  Accuracy : 88.00%\n",
      "Iter : 500\n",
      "Train Loss : 7052.1055, Train Accuracy : 92.00%\n",
      "Test  Loss : 10081.7480, Test  Accuracy : 90.00%\n",
      "Iter : 750\n",
      "Train Loss : 21652.4746, Train Accuracy : 94.00%\n",
      "Test  Loss : 7103.3330, Test  Accuracy : 92.00%\n",
      "Iter : 1000\n",
      "Train Loss : 5030.0674, Train Accuracy : 92.00%\n",
      "Test  Loss : 3300.9700, Test  Accuracy : 96.00%\n",
      "Iter : 1250\n",
      "Train Loss : 5707.8086, Train Accuracy : 96.00%\n",
      "Test  Loss : 5353.6123, Test  Accuracy : 96.00%\n",
      "Iter : 1500\n",
      "Train Loss : 2926.4539, Train Accuracy : 96.00%\n",
      "Test  Loss : 10854.9160, Test  Accuracy : 90.00%\n",
      "Iter : 1750\n",
      "Train Loss : 4085.2537, Train Accuracy : 98.00%\n",
      "Test  Loss : 6092.0957, Test  Accuracy : 96.00%\n",
      "Iter : 2000\n",
      "Train Loss : 659.6500, Train Accuracy : 98.00%\n",
      "Test  Loss : 3668.1030, Test  Accuracy : 98.00%\n",
      "Iter : 2250\n",
      "Train Loss : 14970.6348, Train Accuracy : 94.00%\n",
      "Test  Loss : 5534.2583, Test  Accuracy : 96.00%\n",
      "Iter : 2500\n",
      "Train Loss : 3362.8613, Train Accuracy : 96.00%\n",
      "Test  Loss : 2521.2163, Test  Accuracy : 96.00%\n",
      "Iter : 2750\n",
      "Train Loss : 2770.1350, Train Accuracy : 96.00%\n",
      "Test  Loss : 11279.3096, Test  Accuracy : 96.00%\n"
     ]
    },
    {
     "data": {
      "image/png": "[encoded data removed]",
      "text/plain": [
       "<Figure size 1000x800 with 1 Axes>"
      ]
     },
     "metadata": {},
     "output_type": "display_data"
    }
   ],
   "source": [
    "# Optimization\n",
    "\n",
    "n_batch = 50\n",
    "n_iter = 3000\n",
    "n_prt = 250\n",
    "\n",
    "sess = tf.compat.v1.Session()\n",
    "sess.run(tf.compat.v1.global_variables_initializer())\n",
    "\n",
    "loss_record_train = []\n",
    "loss_record_test = []\n",
    "acc_record_train = []\n",
    "acc_record_test = []\n",
    "\n",
    "for epoch in range(n_iter):\n",
    "    idx = np.random.choice(train_x.shape[0], size=n_batch, replace=False)\n",
    "    train_batch_x = train_x[idx]\n",
    "    train_batch_y = train_y[idx]\n",
    "    \n",
    "    train_batch_y = to_categorical(train_batch_y, num_classes=10)\n",
    "    \n",
    "    sess.run(optm, feed_dict={x:train_batch_x, y:train_batch_y})\n",
    "\n",
    "    if epoch % n_prt == 0:\n",
    "        test_idx = np.random.choice(test_x.shape[0], size=n_batch, replace=False)\n",
    "        test_batch_x = test_x[test_idx]\n",
    "        test_batch_y = test_y[test_idx]\n",
    "        test_batch_x = test_batch_x.reshape((n_batch, input_h, input_w, input_ch))\n",
    "        \n",
    "        test_batch_y = to_categorical(test_batch_y, num_classes=10)\n",
    "        \n",
    "        c1 = sess.run(loss, feed_dict={x:train_batch_x, y:train_batch_y})\n",
    "        c2 = sess.run(loss, feed_dict={x:test_batch_x, y:test_batch_y})\n",
    "        \n",
    "        # Accuracy 계산\n",
    "        correct_pred_train = tf.equal(tf.argmax(pred, 1), tf.argmax(y, 1))\n",
    "        accuracy_train = tf.reduce_mean(tf.cast(correct_pred_train, tf.float32))\n",
    "        train_acc = sess.run(accuracy_train, feed_dict={x:train_batch_x, y:train_batch_y})\n",
    "\n",
    "        correct_pred_test = tf.equal(tf.argmax(pred, 1), tf.argmax(y, 1))\n",
    "        accuracy_test = tf.reduce_mean(tf.cast(correct_pred_test, tf.float32))\n",
    "        test_acc = sess.run(accuracy_test, feed_dict={x:test_batch_x, y:test_batch_y})\n",
    "\n",
    "        loss_record_train.append(c1)\n",
    "        loss_record_test.append(c2)\n",
    "        acc_record_train.append(train_acc)\n",
    "        acc_record_test.append(test_acc)\n",
    "        \n",
    "        print(\"Iter : {}\".format(epoch))\n",
    "        print(\"Train Loss : {:.4f}, Train Accuracy : {:.2f}%\".format(c1, train_acc * 100))\n",
    "        print(\"Test  Loss : {:.4f}, Test  Accuracy : {:.2f}%\".format(c2, test_acc * 100))\n",
    "\n",
    "plt.figure(figsize = (10,8))\n",
    "plt.plot(np.arange(len(loss_record_train))*n_prt, loss_record_train, 'r', label = 'Train')\n",
    "plt.plot(np.arange(len(loss_record_test))*n_prt, loss_record_test, 'b', label = 'Test')\n",
    "plt.xlabel('Iteration', fontsize = 15)\n",
    "plt.ylabel('Loss', fontsize = 15)\n",
    "plt.legend(fontsize = 12)\n",
    "plt.ylim([0, np.max(loss_record_train)])\n",
    "plt.show()"
   ]
  },
  {
   "cell_type": "code",
   "execution_count": 75,
   "id": "3b8b5fa7",
   "metadata": {},
   "outputs": [
    {
     "name": "stdout",
     "output_type": "stream",
     "text": [
      "Train_Accuracy : 96.00%\n",
      "Test_Accuracy : 96.00%\n"
     ]
    }
   ],
   "source": [
    "print(\"Train_Accuracy : {:.2f}%\".format(train_acc * 100))\n",
    "print(\"Test_Accuracy : {:.2f}%\".format(test_acc * 100))"
   ]
  },
  {
   "cell_type": "code",
   "execution_count": null,
   "id": "553ebe62",
   "metadata": {},
   "outputs": [],
   "source": []
  }
 ],
 "metadata": {
  "kernelspec": {
   "display_name": "Python 3",
   "language": "python",
   "name": "python3"
  },
  "language_info": {
   "codemirror_mode": {
    "name": "ipython",
    "version": 3
   },
   "file_extension": ".py",
   "mimetype": "text/x-python",
   "name": "python",
   "nbconvert_exporter": "python",
   "pygments_lexer": "ipython3",
   "version": "3.12.8"
  }
 },
 "nbformat": 4,
 "nbformat_minor": 5
}
