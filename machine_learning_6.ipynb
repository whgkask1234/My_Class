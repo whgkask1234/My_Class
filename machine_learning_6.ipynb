{
 "cells": [
  {
   "cell_type": "markdown",
   "id": "53995fd1",
   "metadata": {},
   "source": [
    "Machine Learning 6주차 과제"
   ]
  },
  {
   "cell_type": "code",
   "execution_count": 620,
   "id": "476ddf68",
   "metadata": {},
   "outputs": [],
   "source": [
    "#필요한 라이브러리 import\n",
    "import pandas as pd\n",
    "import matplotlib.pyplot as plt\n",
    "import numpy as np\n",
    "from sklearn.linear_model import LogisticRegression\n",
    "from sklearn.model_selection import train_test_split\n",
    "from sklearn.metrics import accuracy_score"
   ]
  },
  {
   "cell_type": "code",
   "execution_count": 621,
   "id": "9e5edf32",
   "metadata": {},
   "outputs": [],
   "source": [
    "# 1. 데이터 불러오기\n",
    "data = pd.read_csv('C:/Users/고정우/Desktop/머신러닝 실습/과제/Social_Network_Ads.csv')\n",
    "\n",
    "# 2. 데이터의 feature 추출\n",
    "X = data[['Age', 'EstimatedSalary']].values\n",
    "y = data[['Purchased']].values"
   ]
  },
  {
   "cell_type": "code",
   "execution_count": 622,
   "id": "af09a9bb",
   "metadata": {},
   "outputs": [],
   "source": [
    "#학습데이터를 데이터의 80%, 테스트 데이터를 20%로 분할해서 사용\n",
    "X_train, X_test, y_train, y_test = train_test_split(X, y, test_size=0.2)"
   ]
  },
  {
   "cell_type": "code",
   "execution_count": 623,
   "id": "4c820cbb",
   "metadata": {},
   "outputs": [],
   "source": [
    "#데이터 전처리\n",
    "\n",
    "mean = X_train.mean(axis = 0)   # 평균 값\n",
    "std = X_train.std(axis = 0)     # 표준편차 값\n",
    "\n",
    "X_train_norm = (X_train - mean) / std   # 데이터 정규화\n",
    "\n",
    "#데이터 정규화를 하는 이유는 데이터가 너무 크면\n",
    "#경사하강법과 같은 모델 학습에서 발산할 가능성이 있기 때문이다."
   ]
  },
  {
   "cell_type": "code",
   "execution_count": 624,
   "id": "a0ccc2d1",
   "metadata": {},
   "outputs": [],
   "source": [
    "#바이어스 추가\n",
    "X_train_bias = np.hstack((np.ones((320, 1)), X_train_norm))\n",
    "\n",
    "#정규화한 X_train_norm의 왼쪽에 320 X 1의 1로 채워진 행렬을 붙여\n",
    "#바이어스를 추가한다."
   ]
  },
  {
   "cell_type": "markdown",
   "id": "a1d5e71c",
   "metadata": {},
   "source": [
    "**시그모이드 함수 정의**\n",
    "<br>\n",
    "\n",
    "$$\n",
    "\\sigma(x) = \\frac{1}{1 + e^{-x}}\n",
    "$$\n",
    "<br>"
   ]
  },
  {
   "cell_type": "code",
   "execution_count": 625,
   "id": "2d7ec89c",
   "metadata": {},
   "outputs": [],
   "source": [
    "#시그모이드 함수 정의\n",
    "def sigmoid(x):\n",
    "    return 1 / (1 + np.exp(-x))"
   ]
  },
  {
   "cell_type": "code",
   "execution_count": 626,
   "id": "72814258",
   "metadata": {},
   "outputs": [],
   "source": [
    "# 파라미터 초기화\n",
    "w = np.ones((3, 1))\n",
    "\n",
    "#3 X 1의 1로 채워진 행렬 생성"
   ]
  },
  {
   "cell_type": "markdown",
   "id": "457bcef5",
   "metadata": {},
   "source": [
    "**경사하강법 알고리즘**\n",
    "<br>\n",
    "\n",
    "$$\n",
    "\\omega_{new} = \\omega_{old} - \\alpha\\frac{\\partial}{\\partial w}J(\\bf{\\omega})\n",
    "$$\n",
    "\n",
    "<br>\n",
    "<br>\n",
    "\n",
    "$$\n",
    "J({\\omega}) = \\frac{1}{m} \\sum_{i = 1}^{m}{(\\omega^T x_i - y_i)^2}\n",
    "$$"
   ]
  },
  {
   "cell_type": "code",
   "execution_count": 627,
   "id": "6642b9f9",
   "metadata": {},
   "outputs": [],
   "source": [
    "#경사하강법\n",
    "def gradient_descent(x, y, w, alpha, epochs):\n",
    "    m = len(y)\n",
    "    for i in range(epochs):\n",
    "        p = sigmoid(x @ w)\n",
    "        dw = (1/m) * (x.T @ (p - y))\n",
    "        w = w - alpha * dw\n",
    "    return w\n",
    "\n",
    "# 파라미터 w가 업데이트된다."
   ]
  },
  {
   "cell_type": "code",
   "execution_count": 628,
   "id": "e04bd0f3",
   "metadata": {},
   "outputs": [
    {
     "name": "stdout",
     "output_type": "stream",
     "text": [
      "w0 =  -0.9445771786447067 \n",
      "w1 =  2.579558305912172 \n",
      "w2 =  1.378340627386478\n"
     ]
    }
   ],
   "source": [
    "#손실을 최소화 하기 위해 epoch을 100000으로 설정\n",
    "w = gradient_descent(X_train_bias, y_train, w, 0.001, 100000)\n",
    "\n",
    "# 경사하강법의 파라미터 출력\n",
    "w0 = w[0, 0]\n",
    "w1 = w[1, 0]\n",
    "w2 = w[2, 0]\n",
    "print('w0 = ', w0, '\\nw1 = ', w1, '\\nw2 = ', w2)\n"
   ]
  },
  {
   "cell_type": "markdown",
   "id": "9659835e",
   "metadata": {},
   "source": [
    "**손실 함수(교차 엔트로피)**\n",
    "\n",
    "<br>\n",
    "\n",
    "$$\n",
    "\\epsilon_{CEE} = -\\sum_{i=1}^{m}{\\{y_i\\ln p_i + (1-y_i)\\ln(1-p_i) \\}}\n",
    "$$\n",
    "\n",
    "<br>"
   ]
  },
  {
   "cell_type": "code",
   "execution_count": 629,
   "id": "afac8057",
   "metadata": {},
   "outputs": [
    {
     "name": "stdout",
     "output_type": "stream",
     "text": [
      "손실 : 0.34\n"
     ]
    }
   ],
   "source": [
    "#손실 함수(교차 엔트로피 오차) 정의\n",
    "m = len(y_train)\n",
    "p = sigmoid(X_train_bias @ w)\n",
    "cost = -(1/m) * (y_train.T @ np.log(p) + (1 - y_train).T @ np.log(1 - p))\n",
    "#cost는 1x1 행렬이므로 값만 꺼내와야 하기 때문에 [0, 0]\n",
    "print(f'손실 : {(cost[0, 0]):.2f}')"
   ]
  },
  {
   "cell_type": "code",
   "execution_count": 630,
   "id": "7446c28e",
   "metadata": {},
   "outputs": [],
   "source": [
    "#클래스 나누기\n",
    "C0 = np.where(y_train == False)[0]  #y_train의 값이 0인 인덱스 저장\n",
    "C1 = np.where(y_train == True)[0]   #y_train의 값이 1인 인덱스 저장\n",
    "\n",
    "Y = sigmoid(X_train_bias @ w) > 0.5 #Y는 시그모이드 함수가 0.5이상인 값들만 True\n",
    "\n",
    "Y = np.empty([320, 1])              #비어있는 320 X 1의 행렬 생성\n",
    "Y[C0] = 0\n",
    "Y[C1] = 1"
   ]
  },
  {
   "cell_type": "markdown",
   "id": "e650d6bb",
   "metadata": {},
   "source": [
    "경사하강법 시각화"
   ]
  },
  {
   "cell_type": "code",
   "execution_count": 631,
   "id": "c9ffa3a2",
   "metadata": {},
   "outputs": [
    {
     "data": {
      "image/png": "[encoded data removed]",
      "text/plain": [
       "<Figure size 600x400 with 1 Axes>"
      ]
     },
     "metadata": {},
     "output_type": "display_data"
    }
   ],
   "source": [
    "xp = np.linspace(-2.0, 2.0, 320).reshape(-1, 1) #데이터의 개수 320개\n",
    "yp = -w[1,0]/w[2,0]*xp - w[0, 0]/w[2, 0]\n",
    "\n",
    "plt.figure(figsize=(6, 4))\n",
    "plt.plot(X_train_bias[C1, 1],X_train_bias[C1, 2] , 'go', label = \"Purchased\")\n",
    "plt.plot(X_train_bias[C0, 1], X_train_bias[C0, 2], 'bo', label = \"Non-Purchased\")\n",
    "plt.plot(xp, yp, 'r', label = \"Logistic Regression\")\n",
    "\n",
    "plt.title(\"Gradient Descent\")\n",
    "plt.xlabel(\"Age\")\n",
    "plt.ylabel(\"EstimatedSalary\")\n",
    "plt.xlim([-2.0, 2.0])\n",
    "plt.ylim([-2.0, 2.5])\n",
    "plt.legend(loc=2)\n",
    "plt.show()"
   ]
  },
  {
   "cell_type": "markdown",
   "id": "c4ea39e1",
   "metadata": {},
   "source": [
    "Scikit-Learn을 이용한 모델학습"
   ]
  },
  {
   "cell_type": "code",
   "execution_count": 632,
   "id": "df199a53",
   "metadata": {},
   "outputs": [
    {
     "data": {
      "text/html": [
       "<style>#sk-container-id-9 {\n",
       "  /* Definition of color scheme common for light and dark mode */\n",
       "  --sklearn-color-text: #000;\n",
       "  --sklearn-color-text-muted: #666;\n",
       "  --sklearn-color-line: gray;\n",
       "  /* Definition of color scheme for unfitted estimators */\n",
       "  --sklearn-color-unfitted-level-0: #fff5e6;\n",
       "  --sklearn-color-unfitted-level-1: #f6e4d2;\n",
       "  --sklearn-color-unfitted-level-2: #ffe0b3;\n",
       "  --sklearn-color-unfitted-level-3: chocolate;\n",
       "  /* Definition of color scheme for fitted estimators */\n",
       "  --sklearn-color-fitted-level-0: #f0f8ff;\n",
       "  --sklearn-color-fitted-level-1: #d4ebff;\n",
       "  --sklearn-color-fitted-level-2: #b3dbfd;\n",
       "  --sklearn-color-fitted-level-3: cornflowerblue;\n",
       "\n",
       "  /* Specific color for light theme */\n",
       "  --sklearn-color-text-on-default-background: var(--sg-text-color, var(--theme-code-foreground, var(--jp-content-font-color1, black)));\n",
       "  --sklearn-color-background: var(--sg-background-color, var(--theme-background, var(--jp-layout-color0, white)));\n",
       "  --sklearn-color-border-box: var(--sg-text-color, var(--theme-code-foreground, var(--jp-content-font-color1, black)));\n",
       "  --sklearn-color-icon: #696969;\n",
       "\n",
       "  @media (prefers-color-scheme: dark) {\n",
       "    /* Redefinition of color scheme for dark theme */\n",
       "    --sklearn-color-text-on-default-background: var(--sg-text-color, var(--theme-code-foreground, var(--jp-content-font-color1, white)));\n",
       "    --sklearn-color-background: var(--sg-background-color, var(--theme-background, var(--jp-layout-color0, #111)));\n",
       "    --sklearn-color-border-box: var(--sg-text-color, var(--theme-code-foreground, var(--jp-content-font-color1, white)));\n",
       "    --sklearn-color-icon: #878787;\n",
       "  }\n",
       "}\n",
       "\n",
       "#sk-container-id-9 {\n",
       "  color: var(--sklearn-color-text);\n",
       "}\n",
       "\n",
       "#sk-container-id-9 pre {\n",
       "  padding: 0;\n",
       "}\n",
       "\n",
       "#sk-container-id-9 input.sk-hidden--visually {\n",
       "  border: 0;\n",
       "  clip: rect(1px 1px 1px 1px);\n",
       "  clip: rect(1px, 1px, 1px, 1px);\n",
       "  height: 1px;\n",
       "  margin: -1px;\n",
       "  overflow: hidden;\n",
       "  padding: 0;\n",
       "  position: absolute;\n",
       "  width: 1px;\n",
       "}\n",
       "\n",
       "#sk-container-id-9 div.sk-dashed-wrapped {\n",
       "  border: 1px dashed var(--sklearn-color-line);\n",
       "  margin: 0 0.4em 0.5em 0.4em;\n",
       "  box-sizing: border-box;\n",
       "  padding-bottom: 0.4em;\n",
       "  background-color: var(--sklearn-color-background);\n",
       "}\n",
       "\n",
       "#sk-container-id-9 div.sk-container {\n",
       "  /* jupyter's `normalize.less` sets `[hidden] { display: none; }`\n",
       "     but bootstrap.min.css set `[hidden] { display: none !important; }`\n",
       "     so we also need the `!important` here to be able to override the\n",
       "     default hidden behavior on the sphinx rendered scikit-learn.org.\n",
       "     See: https://github.com/scikit-learn/scikit-learn/issues/21755 */\n",
       "  display: inline-block !important;\n",
       "  position: relative;\n",
       "}\n",
       "\n",
       "#sk-container-id-9 div.sk-text-repr-fallback {\n",
       "  display: none;\n",
       "}\n",
       "\n",
       "div.sk-parallel-item,\n",
       "div.sk-serial,\n",
       "div.sk-item {\n",
       "  /* draw centered vertical line to link estimators */\n",
       "  background-image: linear-gradient(var(--sklearn-color-text-on-default-background), var(--sklearn-color-text-on-default-background));\n",
       "  background-size: 2px 100%;\n",
       "  background-repeat: no-repeat;\n",
       "  background-position: center center;\n",
       "}\n",
       "\n",
       "/* Parallel-specific style estimator block */\n",
       "\n",
       "#sk-container-id-9 div.sk-parallel-item::after {\n",
       "  content: \"\";\n",
       "  width: 100%;\n",
       "  border-bottom: 2px solid var(--sklearn-color-text-on-default-background);\n",
       "  flex-grow: 1;\n",
       "}\n",
       "\n",
       "#sk-container-id-9 div.sk-parallel {\n",
       "  display: flex;\n",
       "  align-items: stretch;\n",
       "  justify-content: center;\n",
       "  background-color: var(--sklearn-color-background);\n",
       "  position: relative;\n",
       "}\n",
       "\n",
       "#sk-container-id-9 div.sk-parallel-item {\n",
       "  display: flex;\n",
       "  flex-direction: column;\n",
       "}\n",
       "\n",
       "#sk-container-id-9 div.sk-parallel-item:first-child::after {\n",
       "  align-self: flex-end;\n",
       "  width: 50%;\n",
       "}\n",
       "\n",
       "#sk-container-id-9 div.sk-parallel-item:last-child::after {\n",
       "  align-self: flex-start;\n",
       "  width: 50%;\n",
       "}\n",
       "\n",
       "#sk-container-id-9 div.sk-parallel-item:only-child::after {\n",
       "  width: 0;\n",
       "}\n",
       "\n",
       "/* Serial-specific style estimator block */\n",
       "\n",
       "#sk-container-id-9 div.sk-serial {\n",
       "  display: flex;\n",
       "  flex-direction: column;\n",
       "  align-items: center;\n",
       "  background-color: var(--sklearn-color-background);\n",
       "  padding-right: 1em;\n",
       "  padding-left: 1em;\n",
       "}\n",
       "\n",
       "\n",
       "/* Toggleable style: style used for estimator/Pipeline/ColumnTransformer box that is\n",
       "clickable and can be expanded/collapsed.\n",
       "- Pipeline and ColumnTransformer use this feature and define the default style\n",
       "- Estimators will overwrite some part of the style using the `sk-estimator` class\n",
       "*/\n",
       "\n",
       "/* Pipeline and ColumnTransformer style (default) */\n",
       "\n",
       "#sk-container-id-9 div.sk-toggleable {\n",
       "  /* Default theme specific background. It is overwritten whether we have a\n",
       "  specific estimator or a Pipeline/ColumnTransformer */\n",
       "  background-color: var(--sklearn-color-background);\n",
       "}\n",
       "\n",
       "/* Toggleable label */\n",
       "#sk-container-id-9 label.sk-toggleable__label {\n",
       "  cursor: pointer;\n",
       "  display: flex;\n",
       "  width: 100%;\n",
       "  margin-bottom: 0;\n",
       "  padding: 0.5em;\n",
       "  box-sizing: border-box;\n",
       "  text-align: center;\n",
       "  align-items: start;\n",
       "  justify-content: space-between;\n",
       "  gap: 0.5em;\n",
       "}\n",
       "\n",
       "#sk-container-id-9 label.sk-toggleable__label .caption {\n",
       "  font-size: 0.6rem;\n",
       "  font-weight: lighter;\n",
       "  color: var(--sklearn-color-text-muted);\n",
       "}\n",
       "\n",
       "#sk-container-id-9 label.sk-toggleable__label-arrow:before {\n",
       "  /* Arrow on the left of the label */\n",
       "  content: \"▸\";\n",
       "  float: left;\n",
       "  margin-right: 0.25em;\n",
       "  color: var(--sklearn-color-icon);\n",
       "}\n",
       "\n",
       "#sk-container-id-9 label.sk-toggleable__label-arrow:hover:before {\n",
       "  color: var(--sklearn-color-text);\n",
       "}\n",
       "\n",
       "/* Toggleable content - dropdown */\n",
       "\n",
       "#sk-container-id-9 div.sk-toggleable__content {\n",
       "  max-height: 0;\n",
       "  max-width: 0;\n",
       "  overflow: hidden;\n",
       "  text-align: left;\n",
       "  /* unfitted */\n",
       "  background-color: var(--sklearn-color-unfitted-level-0);\n",
       "}\n",
       "\n",
       "#sk-container-id-9 div.sk-toggleable__content.fitted {\n",
       "  /* fitted */\n",
       "  background-color: var(--sklearn-color-fitted-level-0);\n",
       "}\n",
       "\n",
       "#sk-container-id-9 div.sk-toggleable__content pre {\n",
       "  margin: 0.2em;\n",
       "  border-radius: 0.25em;\n",
       "  color: var(--sklearn-color-text);\n",
       "  /* unfitted */\n",
       "  background-color: var(--sklearn-color-unfitted-level-0);\n",
       "}\n",
       "\n",
       "#sk-container-id-9 div.sk-toggleable__content.fitted pre {\n",
       "  /* unfitted */\n",
       "  background-color: var(--sklearn-color-fitted-level-0);\n",
       "}\n",
       "\n",
       "#sk-container-id-9 input.sk-toggleable__control:checked~div.sk-toggleable__content {\n",
       "  /* Expand drop-down */\n",
       "  max-height: 200px;\n",
       "  max-width: 100%;\n",
       "  overflow: auto;\n",
       "}\n",
       "\n",
       "#sk-container-id-9 input.sk-toggleable__control:checked~label.sk-toggleable__label-arrow:before {\n",
       "  content: \"▾\";\n",
       "}\n",
       "\n",
       "/* Pipeline/ColumnTransformer-specific style */\n",
       "\n",
       "#sk-container-id-9 div.sk-label input.sk-toggleable__control:checked~label.sk-toggleable__label {\n",
       "  color: var(--sklearn-color-text);\n",
       "  background-color: var(--sklearn-color-unfitted-level-2);\n",
       "}\n",
       "\n",
       "#sk-container-id-9 div.sk-label.fitted input.sk-toggleable__control:checked~label.sk-toggleable__label {\n",
       "  background-color: var(--sklearn-color-fitted-level-2);\n",
       "}\n",
       "\n",
       "/* Estimator-specific style */\n",
       "\n",
       "/* Colorize estimator box */\n",
       "#sk-container-id-9 div.sk-estimator input.sk-toggleable__control:checked~label.sk-toggleable__label {\n",
       "  /* unfitted */\n",
       "  background-color: var(--sklearn-color-unfitted-level-2);\n",
       "}\n",
       "\n",
       "#sk-container-id-9 div.sk-estimator.fitted input.sk-toggleable__control:checked~label.sk-toggleable__label {\n",
       "  /* fitted */\n",
       "  background-color: var(--sklearn-color-fitted-level-2);\n",
       "}\n",
       "\n",
       "#sk-container-id-9 div.sk-label label.sk-toggleable__label,\n",
       "#sk-container-id-9 div.sk-label label {\n",
       "  /* The background is the default theme color */\n",
       "  color: var(--sklearn-color-text-on-default-background);\n",
       "}\n",
       "\n",
       "/* On hover, darken the color of the background */\n",
       "#sk-container-id-9 div.sk-label:hover label.sk-toggleable__label {\n",
       "  color: var(--sklearn-color-text);\n",
       "  background-color: var(--sklearn-color-unfitted-level-2);\n",
       "}\n",
       "\n",
       "/* Label box, darken color on hover, fitted */\n",
       "#sk-container-id-9 div.sk-label.fitted:hover label.sk-toggleable__label.fitted {\n",
       "  color: var(--sklearn-color-text);\n",
       "  background-color: var(--sklearn-color-fitted-level-2);\n",
       "}\n",
       "\n",
       "/* Estimator label */\n",
       "\n",
       "#sk-container-id-9 div.sk-label label {\n",
       "  font-family: monospace;\n",
       "  font-weight: bold;\n",
       "  display: inline-block;\n",
       "  line-height: 1.2em;\n",
       "}\n",
       "\n",
       "#sk-container-id-9 div.sk-label-container {\n",
       "  text-align: center;\n",
       "}\n",
       "\n",
       "/* Estimator-specific */\n",
       "#sk-container-id-9 div.sk-estimator {\n",
       "  font-family: monospace;\n",
       "  border: 1px dotted var(--sklearn-color-border-box);\n",
       "  border-radius: 0.25em;\n",
       "  box-sizing: border-box;\n",
       "  margin-bottom: 0.5em;\n",
       "  /* unfitted */\n",
       "  background-color: var(--sklearn-color-unfitted-level-0);\n",
       "}\n",
       "\n",
       "#sk-container-id-9 div.sk-estimator.fitted {\n",
       "  /* fitted */\n",
       "  background-color: var(--sklearn-color-fitted-level-0);\n",
       "}\n",
       "\n",
       "/* on hover */\n",
       "#sk-container-id-9 div.sk-estimator:hover {\n",
       "  /* unfitted */\n",
       "  background-color: var(--sklearn-color-unfitted-level-2);\n",
       "}\n",
       "\n",
       "#sk-container-id-9 div.sk-estimator.fitted:hover {\n",
       "  /* fitted */\n",
       "  background-color: var(--sklearn-color-fitted-level-2);\n",
       "}\n",
       "\n",
       "/* Specification for estimator info (e.g. \"i\" and \"?\") */\n",
       "\n",
       "/* Common style for \"i\" and \"?\" */\n",
       "\n",
       ".sk-estimator-doc-link,\n",
       "a:link.sk-estimator-doc-link,\n",
       "a:visited.sk-estimator-doc-link {\n",
       "  float: right;\n",
       "  font-size: smaller;\n",
       "  line-height: 1em;\n",
       "  font-family: monospace;\n",
       "  background-color: var(--sklearn-color-background);\n",
       "  border-radius: 1em;\n",
       "  height: 1em;\n",
       "  width: 1em;\n",
       "  text-decoration: none !important;\n",
       "  margin-left: 0.5em;\n",
       "  text-align: center;\n",
       "  /* unfitted */\n",
       "  border: var(--sklearn-color-unfitted-level-1) 1pt solid;\n",
       "  color: var(--sklearn-color-unfitted-level-1);\n",
       "}\n",
       "\n",
       ".sk-estimator-doc-link.fitted,\n",
       "a:link.sk-estimator-doc-link.fitted,\n",
       "a:visited.sk-estimator-doc-link.fitted {\n",
       "  /* fitted */\n",
       "  border: var(--sklearn-color-fitted-level-1) 1pt solid;\n",
       "  color: var(--sklearn-color-fitted-level-1);\n",
       "}\n",
       "\n",
       "/* On hover */\n",
       "div.sk-estimator:hover .sk-estimator-doc-link:hover,\n",
       ".sk-estimator-doc-link:hover,\n",
       "div.sk-label-container:hover .sk-estimator-doc-link:hover,\n",
       ".sk-estimator-doc-link:hover {\n",
       "  /* unfitted */\n",
       "  background-color: var(--sklearn-color-unfitted-level-3);\n",
       "  color: var(--sklearn-color-background);\n",
       "  text-decoration: none;\n",
       "}\n",
       "\n",
       "div.sk-estimator.fitted:hover .sk-estimator-doc-link.fitted:hover,\n",
       ".sk-estimator-doc-link.fitted:hover,\n",
       "div.sk-label-container:hover .sk-estimator-doc-link.fitted:hover,\n",
       ".sk-estimator-doc-link.fitted:hover {\n",
       "  /* fitted */\n",
       "  background-color: var(--sklearn-color-fitted-level-3);\n",
       "  color: var(--sklearn-color-background);\n",
       "  text-decoration: none;\n",
       "}\n",
       "\n",
       "/* Span, style for the box shown on hovering the info icon */\n",
       ".sk-estimator-doc-link span {\n",
       "  display: none;\n",
       "  z-index: 9999;\n",
       "  position: relative;\n",
       "  font-weight: normal;\n",
       "  right: .2ex;\n",
       "  padding: .5ex;\n",
       "  margin: .5ex;\n",
       "  width: min-content;\n",
       "  min-width: 20ex;\n",
       "  max-width: 50ex;\n",
       "  color: var(--sklearn-color-text);\n",
       "  box-shadow: 2pt 2pt 4pt #999;\n",
       "  /* unfitted */\n",
       "  background: var(--sklearn-color-unfitted-level-0);\n",
       "  border: .5pt solid var(--sklearn-color-unfitted-level-3);\n",
       "}\n",
       "\n",
       ".sk-estimator-doc-link.fitted span {\n",
       "  /* fitted */\n",
       "  background: var(--sklearn-color-fitted-level-0);\n",
       "  border: var(--sklearn-color-fitted-level-3);\n",
       "}\n",
       "\n",
       ".sk-estimator-doc-link:hover span {\n",
       "  display: block;\n",
       "}\n",
       "\n",
       "/* \"?\"-specific style due to the `<a>` HTML tag */\n",
       "\n",
       "#sk-container-id-9 a.estimator_doc_link {\n",
       "  float: right;\n",
       "  font-size: 1rem;\n",
       "  line-height: 1em;\n",
       "  font-family: monospace;\n",
       "  background-color: var(--sklearn-color-background);\n",
       "  border-radius: 1rem;\n",
       "  height: 1rem;\n",
       "  width: 1rem;\n",
       "  text-decoration: none;\n",
       "  /* unfitted */\n",
       "  color: var(--sklearn-color-unfitted-level-1);\n",
       "  border: var(--sklearn-color-unfitted-level-1) 1pt solid;\n",
       "}\n",
       "\n",
       "#sk-container-id-9 a.estimator_doc_link.fitted {\n",
       "  /* fitted */\n",
       "  border: var(--sklearn-color-fitted-level-1) 1pt solid;\n",
       "  color: var(--sklearn-color-fitted-level-1);\n",
       "}\n",
       "\n",
       "/* On hover */\n",
       "#sk-container-id-9 a.estimator_doc_link:hover {\n",
       "  /* unfitted */\n",
       "  background-color: var(--sklearn-color-unfitted-level-3);\n",
       "  color: var(--sklearn-color-background);\n",
       "  text-decoration: none;\n",
       "}\n",
       "\n",
       "#sk-container-id-9 a.estimator_doc_link.fitted:hover {\n",
       "  /* fitted */\n",
       "  background-color: var(--sklearn-color-fitted-level-3);\n",
       "}\n",
       "</style><div id=\"sk-container-id-9\" class=\"sk-top-container\"><div class=\"sk-text-repr-fallback\"><pre>LogisticRegression()</pre><b>In a Jupyter environment, please rerun this cell to show the HTML representation or trust the notebook. <br />On GitHub, the HTML representation is unable to render, please try loading this page with nbviewer.org.</b></div><div class=\"sk-container\" hidden><div class=\"sk-item\"><div class=\"sk-estimator fitted sk-toggleable\"><input class=\"sk-toggleable__control sk-hidden--visually\" id=\"sk-estimator-id-9\" type=\"checkbox\" checked><label for=\"sk-estimator-id-9\" class=\"sk-toggleable__label fitted sk-toggleable__label-arrow\"><div><div>LogisticRegression</div></div><div><a class=\"sk-estimator-doc-link fitted\" rel=\"noreferrer\" target=\"_blank\" href=\"https://scikit-learn.org/1.6/modules/generated/sklearn.linear_model.LogisticRegression.html\">?<span>Documentation for LogisticRegression</span></a><span class=\"sk-estimator-doc-link fitted\">i<span>Fitted</span></span></div></label><div class=\"sk-toggleable__content fitted\"><pre>LogisticRegression()</pre></div> </div></div></div></div>"
      ],
      "text/plain": [
       "LogisticRegression()"
      ]
     },
     "execution_count": 632,
     "metadata": {},
     "output_type": "execute_result"
    }
   ],
   "source": [
    "model = LogisticRegression()\n",
    "model.fit(X_train_norm, y_train.ravel())\n"
   ]
  },
  {
   "cell_type": "code",
   "execution_count": 633,
   "id": "7e4125b8",
   "metadata": {},
   "outputs": [
    {
     "name": "stdout",
     "output_type": "stream",
     "text": [
      "w0 =  -0.9087623720520042\n",
      "w1 =  2.3916822594085447\n",
      "w2 =  1.274874237878787\n"
     ]
    }
   ],
   "source": [
    "w0 = model.intercept_[0]\n",
    "w1 = model.coef_[0, 0]\n",
    "w2 = model.coef_[0, 1]\n",
    "# 파라미터 값 출력\n",
    "print('w0 = ', w0)\n",
    "print('w1 = ', w1)\n",
    "print('w2 = ', w2)"
   ]
  },
  {
   "cell_type": "markdown",
   "id": "be52201e",
   "metadata": {},
   "source": [
    "Scikit-Learn Model 시각화"
   ]
  },
  {
   "cell_type": "code",
   "execution_count": 634,
   "id": "74d7ffe3",
   "metadata": {},
   "outputs": [
    {
     "data": {
      "image/png": "[encoded data removed]",
      "text/plain": [
       "<Figure size 600x400 with 1 Axes>"
      ]
     },
     "metadata": {},
     "output_type": "display_data"
    }
   ],
   "source": [
    "xp = np.linspace(-2.0, 2.0, 320).reshape(-1, 1)\n",
    "yp = -w1/w2*xp - w0/w2\n",
    "\n",
    "plt.figure(figsize=(6, 4))\n",
    "plt.plot(X_train_bias[C1, 1],X_train_bias[C1,2] , 'go', label = \"Purchased\")\n",
    "plt.plot(X_train_bias[C0, 1], X_train_bias[C0, 2], 'bo', label = \"Non-Purchased\")\n",
    "plt.plot(xp, yp, 'r', label = \"Logistic Regression\")\n",
    "\n",
    "plt.title(\"Gradient Descent\")\n",
    "plt.xlabel(\"Age\")\n",
    "plt.ylabel(\"EstimatedSalary\")\n",
    "plt.xlim([-2.0, 2.0])\n",
    "plt.ylim([-2.0, 2.5])\n",
    "plt.legend(loc=2)\n",
    "plt.show()"
   ]
  },
  {
   "cell_type": "markdown",
   "id": "9a0c8c66",
   "metadata": {},
   "source": [
    "테스트 데이터 정규화"
   ]
  },
  {
   "cell_type": "code",
   "execution_count": 635,
   "id": "b7f71536",
   "metadata": {},
   "outputs": [],
   "source": [
    "#테스트 데이터 정규화 및 바이어스 추가\n",
    "#(테스트 데이터 - 전체 데이터의 평균) / (전체 데이터의 표준편차)\n",
    "X_test_norm = (X_test - mean) / std\n",
    "X_test_bias = np.hstack((np.ones((80, 1)), X_test_norm))"
   ]
  },
  {
   "cell_type": "markdown",
   "id": "1f7a5727",
   "metadata": {},
   "source": [
    "테스트 데이터 시각화"
   ]
  },
  {
   "cell_type": "code",
   "execution_count": 636,
   "id": "848eea58",
   "metadata": {},
   "outputs": [],
   "source": [
    "#클래스 나누기\n",
    "\n",
    "C0 = np.where(y_test == False)[0]\n",
    "C1 = np.where(y_test == True)[0]\n",
    "\n",
    "Y = sigmoid(X_test_bias @ w) > 0.5\n",
    "\n",
    "Y = np.empty([320, 1])\n",
    "Y[C0] = 0\n",
    "Y[C1] = 1"
   ]
  },
  {
   "cell_type": "code",
   "execution_count": 637,
   "id": "c4dfdfdc",
   "metadata": {},
   "outputs": [],
   "source": [
    "model = LogisticRegression()\n",
    "model.fit(X_test_norm, y_test.ravel())\n",
    "\n",
    "w0 = model.intercept_[0]\n",
    "w1 = model.coef_[0, 0]\n",
    "w2 = model.coef_[0, 1]"
   ]
  },
  {
   "cell_type": "code",
   "execution_count": 638,
   "id": "922297bc",
   "metadata": {},
   "outputs": [
    {
     "name": "stdout",
     "output_type": "stream",
     "text": [
      "w0 =  -1.6490105223347706 \n",
      "w1 =  1.8660953406590153 \n",
      "w2 =  0.7595282006057225\n"
     ]
    }
   ],
   "source": [
    "#테스트 데이터에 대한 파라미터\n",
    "print('w0 = ', w0, '\\nw1 = ', w1, '\\nw2 = ', w2)"
   ]
  },
  {
   "cell_type": "code",
   "execution_count": 639,
   "id": "60a2ca68",
   "metadata": {},
   "outputs": [
    {
     "data": {
      "image/png": "[encoded data removed]",
      "text/plain": [
       "<Figure size 600x400 with 1 Axes>"
      ]
     },
     "metadata": {},
     "output_type": "display_data"
    }
   ],
   "source": [
    "xp = np.linspace(-2.0, 2.0, 80).reshape(-1, 1)\n",
    "yp = -w1/w2*xp - w0/w2\n",
    "\n",
    "plt.figure(figsize=(6, 4))\n",
    "plt.plot(X_test_bias[C1, 1],X_test_bias[C1,2] , 'go', label = \"Purchased\")\n",
    "plt.plot(X_test_bias[C0, 1], X_test_bias[C0, 2], 'bo', label = \"Non-Purchased\")\n",
    "plt.plot(xp, yp, 'r', label = \"Logistic Regression\")\n",
    "plt.plot()\n",
    "plt.title(\"Gradient Descent\")\n",
    "plt.xlabel(\"Age\")\n",
    "plt.ylabel(\"EstimatedSalary\")\n",
    "plt.xlim([-2.0, 2.0])\n",
    "plt.ylim([-2.0, 2.5])\n",
    "plt.legend(loc=2)\n",
    "plt.show()"
   ]
  },
  {
   "cell_type": "markdown",
   "id": "a1e41836",
   "metadata": {},
   "source": [
    "추가 코딩 - 로지스틱 회귀로 얻은 예측값 y_pred을 테스트 데이터로 평가해보기"
   ]
  },
  {
   "cell_type": "code",
   "execution_count": 640,
   "id": "50e09318",
   "metadata": {},
   "outputs": [
    {
     "name": "stdout",
     "output_type": "stream",
     "text": [
      "모델의 정확도 =  0.825\n"
     ]
    }
   ],
   "source": [
    "#테스트 데이터에 대한 모델의 예측값\n",
    "y_pred = model.predict(X_test_norm)\n",
    "result = accuracy_score(y_test, y_pred)\n",
    "\n",
    "print(\"모델의 정확도 = \", result)"
   ]
  }
 ],
 "metadata": {
  "kernelspec": {
   "display_name": "Python 3",
   "language": "python",
   "name": "python3"
  },
  "language_info": {
   "codemirror_mode": {
    "name": "ipython",
    "version": 3
   },
   "file_extension": ".py",
   "mimetype": "text/x-python",
   "name": "python",
   "nbconvert_exporter": "python",
   "pygments_lexer": "ipython3",
   "version": "3.12.8"
  }
 },
 "nbformat": 4,
 "nbformat_minor": 5
}
