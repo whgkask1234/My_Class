{
 "cells": [
  {
   "cell_type": "code",
   "execution_count": 133,
   "id": "fe276f69",
   "metadata": {},
   "outputs": [],
   "source": [
    "#MLP for numpy\n",
    "import numpy as np\n",
    "import matplotlib.pyplot as plt"
   ]
  },
  {
   "cell_type": "code",
   "execution_count": 134,
   "id": "1f58c4c7",
   "metadata": {},
   "outputs": [],
   "source": [
    "#Generating dataset for regression\n",
    "np.random.seed(0)\n",
    "samples = 1000"
   ]
  },
  {
   "cell_type": "code",
   "execution_count": 135,
   "id": "3a1dea32",
   "metadata": {},
   "outputs": [],
   "source": [
    "#Features\n",
    "x1 = np.random.uniform(0, 1, samples)\n",
    "x2 = np.random.uniform(0, 1, samples)"
   ]
  },
  {
   "cell_type": "code",
   "execution_count": 136,
   "id": "ef685405",
   "metadata": {},
   "outputs": [],
   "source": [
    "#Combine the features into a NumPy array\n",
    "Input = np.column_stack((x1, x2))"
   ]
  },
  {
   "cell_type": "code",
   "execution_count": 137,
   "id": "ebb554b3",
   "metadata": {},
   "outputs": [],
   "source": [
    "#Target\n",
    "y = 2 * x1 + 3 * x2 - 1"
   ]
  },
  {
   "cell_type": "code",
   "execution_count": 138,
   "id": "2f832b01",
   "metadata": {},
   "outputs": [],
   "source": [
    "#Layer Size\n",
    "input_layer_size = 2\n",
    "hidden_layer_size = 3\n",
    "output_layer_size = 1"
   ]
  },
  {
   "cell_type": "code",
   "execution_count": 139,
   "id": "221252cb",
   "metadata": {},
   "outputs": [],
   "source": [
    "#Bias & Parameter\n",
    "W1 = np.random.rand(hidden_layer_size, input_layer_size)\n",
    "b1 = np.random.rand(hidden_layer_size)\n",
    "W2 = np.random.rand(output_layer_size, hidden_layer_size)\n",
    "b2 = np.random.rand(output_layer_size)"
   ]
  },
  {
   "cell_type": "markdown",
   "id": "21145452",
   "metadata": {},
   "source": [
    "<br>\n",
    "<center> Sigmoid Function\n",
    "\n",
    "$$\\sigma(x) = \\frac{1}{1+e^{-x}}$$\n",
    "\n",
    "<center> Differentiation of sigmoid function\n",
    "\n",
    "$$\\sigma(x)' = \\sigma(x)(1-\\sigma(x))$$"
   ]
  },
  {
   "cell_type": "code",
   "execution_count": 140,
   "id": "8463ea98",
   "metadata": {},
   "outputs": [],
   "source": [
    "#Activation Function\n",
    "def sigmoid(x):\n",
    "    return 1/(1 + np.exp(-x))\n",
    "\n",
    "def diff_sigmoid(x):\n",
    "    return sigmoid(x) * (1 - sigmoid(x))"
   ]
  },
  {
   "cell_type": "code",
   "execution_count": 141,
   "id": "e3c45367",
   "metadata": {},
   "outputs": [],
   "source": [
    "#Hyper Parameter\n",
    "alpha = 0.01 #Learning Rate = 1e-2\n",
    "epochs = 50"
   ]
  },
  {
   "cell_type": "code",
   "execution_count": 142,
   "id": "08ba5e29",
   "metadata": {},
   "outputs": [],
   "source": [
    "#Mean Square Error(MSE), Mean Absolute Percentage Error(MAPE)\n",
    "MSE_list, MAPE_list = [], []"
   ]
  },
  {
   "cell_type": "code",
   "execution_count": 143,
   "id": "00599a11",
   "metadata": {},
   "outputs": [
    {
     "name": "stderr",
     "output_type": "stream",
     "text": [
      "C:\\Users\\고정우\\AppData\\Local\\Temp\\ipykernel_11916\\2464708194.py:44: DeprecationWarning: Conversion of an array with ndim > 0 to a scalar is deprecated, and will error in future. Ensure you extract a single element from your array before performing this operation. (Deprecated NumPy 1.25.)\n",
      "  W1[0][0] -= alpha * dJdW1_11\n",
      "C:\\Users\\고정우\\AppData\\Local\\Temp\\ipykernel_11916\\2464708194.py:45: DeprecationWarning: Conversion of an array with ndim > 0 to a scalar is deprecated, and will error in future. Ensure you extract a single element from your array before performing this operation. (Deprecated NumPy 1.25.)\n",
      "  W1[0][1] -= alpha * dJdW1_12\n",
      "C:\\Users\\고정우\\AppData\\Local\\Temp\\ipykernel_11916\\2464708194.py:47: DeprecationWarning: Conversion of an array with ndim > 0 to a scalar is deprecated, and will error in future. Ensure you extract a single element from your array before performing this operation. (Deprecated NumPy 1.25.)\n",
      "  W1[1][0] -= alpha * dJdW1_21\n",
      "C:\\Users\\고정우\\AppData\\Local\\Temp\\ipykernel_11916\\2464708194.py:48: DeprecationWarning: Conversion of an array with ndim > 0 to a scalar is deprecated, and will error in future. Ensure you extract a single element from your array before performing this operation. (Deprecated NumPy 1.25.)\n",
      "  W1[1][1] -= alpha * dJdW1_22\n",
      "C:\\Users\\고정우\\AppData\\Local\\Temp\\ipykernel_11916\\2464708194.py:50: DeprecationWarning: Conversion of an array with ndim > 0 to a scalar is deprecated, and will error in future. Ensure you extract a single element from your array before performing this operation. (Deprecated NumPy 1.25.)\n",
      "  W1[2][0] -= alpha * dJdW1_31\n",
      "C:\\Users\\고정우\\AppData\\Local\\Temp\\ipykernel_11916\\2464708194.py:51: DeprecationWarning: Conversion of an array with ndim > 0 to a scalar is deprecated, and will error in future. Ensure you extract a single element from your array before performing this operation. (Deprecated NumPy 1.25.)\n",
      "  W1[2][1] -= alpha * dJdW1_32\n",
      "C:\\Users\\고정우\\AppData\\Local\\Temp\\ipykernel_11916\\2464708194.py:53: DeprecationWarning: Conversion of an array with ndim > 0 to a scalar is deprecated, and will error in future. Ensure you extract a single element from your array before performing this operation. (Deprecated NumPy 1.25.)\n",
      "  b1[0] -= alpha * dJdb1_1\n",
      "C:\\Users\\고정우\\AppData\\Local\\Temp\\ipykernel_11916\\2464708194.py:54: DeprecationWarning: Conversion of an array with ndim > 0 to a scalar is deprecated, and will error in future. Ensure you extract a single element from your array before performing this operation. (Deprecated NumPy 1.25.)\n",
      "  b1[1] -= alpha * dJdb1_2\n",
      "C:\\Users\\고정우\\AppData\\Local\\Temp\\ipykernel_11916\\2464708194.py:55: DeprecationWarning: Conversion of an array with ndim > 0 to a scalar is deprecated, and will error in future. Ensure you extract a single element from your array before performing this operation. (Deprecated NumPy 1.25.)\n",
      "  b1[2] -= alpha * dJdb1_3\n",
      "C:\\Users\\고정우\\AppData\\Local\\Temp\\ipykernel_11916\\2464708194.py:58: DeprecationWarning: Conversion of an array with ndim > 0 to a scalar is deprecated, and will error in future. Ensure you extract a single element from your array before performing this operation. (Deprecated NumPy 1.25.)\n",
      "  W2[0][0] -= alpha * dJdW2_11\n",
      "C:\\Users\\고정우\\AppData\\Local\\Temp\\ipykernel_11916\\2464708194.py:59: DeprecationWarning: Conversion of an array with ndim > 0 to a scalar is deprecated, and will error in future. Ensure you extract a single element from your array before performing this operation. (Deprecated NumPy 1.25.)\n",
      "  W2[0][1] -= alpha * dJdW2_12\n",
      "C:\\Users\\고정우\\AppData\\Local\\Temp\\ipykernel_11916\\2464708194.py:60: DeprecationWarning: Conversion of an array with ndim > 0 to a scalar is deprecated, and will error in future. Ensure you extract a single element from your array before performing this operation. (Deprecated NumPy 1.25.)\n",
      "  W2[0][2] -= alpha * dJdW2_13\n",
      "C:\\Users\\고정우\\AppData\\Local\\Temp\\ipykernel_11916\\2464708194.py:61: DeprecationWarning: Conversion of an array with ndim > 0 to a scalar is deprecated, and will error in future. Ensure you extract a single element from your array before performing this operation. (Deprecated NumPy 1.25.)\n",
      "  b2[0] -= alpha * dJdb2_1\n"
     ]
    },
    {
     "name": "stdout",
     "output_type": "stream",
     "text": [
      "MSE and MAPE at epoch 0  : 0.4923692081588331 ,  641.2237701880405\n",
      "MSE and MAPE at epoch 5  : 0.022246601021031178 ,  107.66956507883876\n",
      "MSE and MAPE at epoch 10  : 0.001093995028445833 ,  6.327061349178862\n",
      "MSE and MAPE at epoch 15  : 0.0009431841058067324 ,  6.289273870287075\n",
      "MSE and MAPE at epoch 20  : 0.0008794994777657892 ,  6.3635466025749325\n",
      "MSE and MAPE at epoch 25  : 0.0008454180822275694 ,  6.422813654178087\n",
      "MSE and MAPE at epoch 30  : 0.0008243076834218875 ,  6.466028368064787\n",
      "MSE and MAPE at epoch 35  : 0.00080913002901405 ,  6.569256908978975\n",
      "MSE and MAPE at epoch 40  : 0.0007967970084727246 ,  6.720565021532866\n",
      "MSE and MAPE at epoch 45  : 0.0007859123333003971 ,  6.823595534615717\n",
      "MSE and MAPE at epoch 49  : 0.0007777988486311397 ,  6.875034849438831\n"
     ]
    }
   ],
   "source": [
    "#ANN Algorithm\n",
    "for epoch in range(epochs):\n",
    "    MSE, MAPE = 0, 0\n",
    "    for iter in range(samples):\n",
    "        \n",
    "        #Feedforward\n",
    "        X = Input[iter]\n",
    "        Z_tilde = W1@X.reshape(-1, 1) + b1.reshape(-1, 1)\n",
    "        Z = sigmoid(Z_tilde)\n",
    "        y_pred = W2@Z.reshape(-1, 1) + b2.reshape(-1, 1)\n",
    "        \n",
    "        #Calculating the error\n",
    "        J = ((y_pred - y[iter]) ** 2) / 2\n",
    "        MSE += J\n",
    "        MAPE += np.abs((y_pred - y[iter])/y[iter]) * 100\n",
    "        \n",
    "        #Back propagation\n",
    "        #Output Layer => Hidden Layer\n",
    "        dJdy = (y_pred - y[iter])\n",
    "        dJdW2_11 = dJdy * Z[0]\n",
    "        dJdW2_12 = dJdy * Z[1]\n",
    "        dJdW2_13 = dJdy * Z[2]\n",
    "        dJdb2_1 = dJdy\n",
    "        \n",
    "        dJdZ1 = dJdy * W2[0, 0]\n",
    "        dJdZ2 = dJdy * W2[0, 1]\n",
    "        dJdZ3 = dJdy * W2[0, 2]\n",
    "        \n",
    "        #Hidden Layer => Input Layer\n",
    "        dJdW1_11 = dJdZ1 * X[0] * diff_sigmoid(Z_tilde[0])\n",
    "        dJdW1_12 = dJdZ1 * X[1] * diff_sigmoid(Z_tilde[0])\n",
    "        dJdb1_1 = dJdZ1 * diff_sigmoid(Z_tilde[0])\n",
    "        \n",
    "        dJdW1_21 = dJdZ2 * X[0] * diff_sigmoid(Z_tilde[1])\n",
    "        dJdW1_22 = dJdZ2 * X[1] * diff_sigmoid(Z_tilde[1])\n",
    "        dJdb1_2 = dJdZ2 * diff_sigmoid(Z_tilde[1])\n",
    "        \n",
    "        dJdW1_31 = dJdZ3 * X[0] * diff_sigmoid(Z_tilde[2])\n",
    "        dJdW1_32 = dJdZ3 * X[1] * diff_sigmoid(Z_tilde[2])\n",
    "        dJdb1_3 = dJdZ3 * diff_sigmoid(Z_tilde[2])\n",
    "        \n",
    "        #update\n",
    "        #Input Layer => Hidden Layer Parameter\n",
    "        W1[0][0] -= alpha * dJdW1_11\n",
    "        W1[0][1] -= alpha * dJdW1_12\n",
    "        \n",
    "        W1[1][0] -= alpha * dJdW1_21\n",
    "        W1[1][1] -= alpha * dJdW1_22\n",
    "        \n",
    "        W1[2][0] -= alpha * dJdW1_31\n",
    "        W1[2][1] -= alpha * dJdW1_32\n",
    "        \n",
    "        b1[0] -= alpha * dJdb1_1\n",
    "        b1[1] -= alpha * dJdb1_2\n",
    "        b1[2] -= alpha * dJdb1_3\n",
    "        \n",
    "        #Hidden Layer => Output Layer Parameter\n",
    "        W2[0][0] -= alpha * dJdW2_11\n",
    "        W2[0][1] -= alpha * dJdW2_12\n",
    "        W2[0][2] -= alpha * dJdW2_13\n",
    "        b2[0] -= alpha * dJdb2_1\n",
    "    \n",
    "    MSE, MAPE = MSE/samples, MAPE/samples\n",
    "    MSE_list.append(np.squeeze(MSE))\n",
    "    MAPE_list.append(np.squeeze(MAPE))\n",
    "    if epoch % 5 == 0 or epoch == epochs - 1:\n",
    "        print('MSE and MAPE at epoch', epoch, ' :',\n",
    "              np.squeeze(MSE), ', ', np.squeeze(MAPE))"
   ]
  },
  {
   "cell_type": "code",
   "execution_count": 144,
   "id": "9105655f",
   "metadata": {},
   "outputs": [
    {
     "data": {
      "image/png": "[encoded data removed]",
      "text/plain": [
       "<Figure size 1200x400 with 2 Axes>"
      ]
     },
     "metadata": {},
     "output_type": "display_data"
    }
   ],
   "source": [
    "#시각화\n",
    "plt.figure(figsize=(12, 4))\n",
    "plt.subplot(1, 2, 1)\n",
    "plt.title(\"MSE by Epoch\")\n",
    "plt.plot(np.arange(1, epochs + 1), MSE_list, label = 'MSE', linewidth = 1.5, color = 'b')\n",
    "plt.xlabel('Epoch')\n",
    "plt.ylabel('Mean Squared Error')\n",
    "plt.legend()\n",
    "plt.grid()\n",
    "\n",
    "plt.subplot(1, 2, 2)\n",
    "plt.title(\"MAPE by Epoch\")\n",
    "plt.plot(np.arange(1, epochs + 1), MAPE_list, label = 'MAPE', linewidth = 1.5, color = 'r')\n",
    "plt.xlabel('Epoch')\n",
    "plt.ylabel('Mean Absolute Percentage Error(%)')\n",
    "plt.legend()\n",
    "plt.grid()"
   ]
  },
  {
   "cell_type": "markdown",
   "id": "b5441ce0",
   "metadata": {},
   "source": [
    "Keras를 이용한 MLP"
   ]
  },
  {
   "cell_type": "code",
   "execution_count": 145,
   "id": "d69f3ae2",
   "metadata": {},
   "outputs": [],
   "source": [
    "# MLP for Keras\n",
    "import numpy as np\n",
    "import matplotlib.pyplot as plt\n",
    "import tensorflow as tf\n",
    "from tensorflow.keras.models import Sequential\n",
    "from tensorflow.keras.layers import Dense\n",
    "from tensorflow.keras.optimizers import SGD\n",
    "from tensorflow.keras.metrics import MeanSquaredError, MeanAbsolutePercentageError\n",
    "from tensorflow.keras import utils\n"
   ]
  },
  {
   "cell_type": "code",
   "execution_count": 146,
   "id": "9017c473",
   "metadata": {},
   "outputs": [
    {
     "name": "stdout",
     "output_type": "stream",
     "text": [
      "Epoch 1/50\n",
      "\u001b[1m100/100\u001b[0m \u001b[32m━━━━━━━━━━━━━━━━━━━━\u001b[0m\u001b[37m\u001b[0m \u001b[1m4s\u001b[0m 35ms/step - loss: 1.2372 - mean_absolute_percentage_error: 688.8145 - mean_squared_error: 1.2372\n",
      "Epoch 2/50\n",
      "\u001b[1m100/100\u001b[0m \u001b[32m━━━━━━━━━━━━━━━━━━━━\u001b[0m\u001b[37m\u001b[0m \u001b[1m3s\u001b[0m 27ms/step - loss: 0.7087 - mean_absolute_percentage_error: 991.6386 - mean_squared_error: 0.7087 \n",
      "Epoch 3/50\n",
      "\u001b[1m100/100\u001b[0m \u001b[32m━━━━━━━━━━━━━━━━━━━━\u001b[0m\u001b[37m\u001b[0m \u001b[1m4s\u001b[0m 34ms/step - loss: 0.2434 - mean_absolute_percentage_error: 175.6871 - mean_squared_error: 0.2434\n",
      "Epoch 4/50\n",
      "\u001b[1m100/100\u001b[0m \u001b[32m━━━━━━━━━━━━━━━━━━━━\u001b[0m\u001b[37m\u001b[0m \u001b[1m2s\u001b[0m 23ms/step - loss: 0.0323 - mean_absolute_percentage_error: 117.2767 - mean_squared_error: 0.0323\n",
      "Epoch 5/50\n",
      "\u001b[1m100/100\u001b[0m \u001b[32m━━━━━━━━━━━━━━━━━━━━\u001b[0m\u001b[37m\u001b[0m \u001b[1m2s\u001b[0m 16ms/step - loss: 0.0067 - mean_absolute_percentage_error: 19.9873 - mean_squared_error: 0.0067\n",
      "Epoch 6/50\n",
      "\u001b[1m100/100\u001b[0m \u001b[32m━━━━━━━━━━━━━━━━━━━━\u001b[0m\u001b[37m\u001b[0m \u001b[1m3s\u001b[0m 34ms/step - loss: 0.0040 - mean_absolute_percentage_error: 6.6275 - mean_squared_error: 0.0040\n",
      "Epoch 7/50\n",
      "\u001b[1m100/100\u001b[0m \u001b[32m━━━━━━━━━━━━━━━━━━━━\u001b[0m\u001b[37m\u001b[0m \u001b[1m3s\u001b[0m 31ms/step - loss: 0.0036 - mean_absolute_percentage_error: 8.5505 - mean_squared_error: 0.0036\n",
      "Epoch 8/50\n",
      "\u001b[1m100/100\u001b[0m \u001b[32m━━━━━━━━━━━━━━━━━━━━\u001b[0m\u001b[37m\u001b[0m \u001b[1m2s\u001b[0m 18ms/step - loss: 0.0032 - mean_absolute_percentage_error: 9.3180 - mean_squared_error: 0.0032\n",
      "Epoch 9/50\n",
      "\u001b[1m100/100\u001b[0m \u001b[32m━━━━━━━━━━━━━━━━━━━━\u001b[0m\u001b[37m\u001b[0m \u001b[1m2s\u001b[0m 23ms/step - loss: 0.0033 - mean_absolute_percentage_error: 6.5850 - mean_squared_error: 0.0033\n",
      "Epoch 10/50\n",
      "\u001b[1m100/100\u001b[0m \u001b[32m━━━━━━━━━━━━━━━━━━━━\u001b[0m\u001b[37m\u001b[0m \u001b[1m5s\u001b[0m 49ms/step - loss: 0.0033 - mean_absolute_percentage_error: 9.7553 - mean_squared_error: 0.0033\n",
      "Epoch 11/50\n",
      "\u001b[1m100/100\u001b[0m \u001b[32m━━━━━━━━━━━━━━━━━━━━\u001b[0m\u001b[37m\u001b[0m \u001b[1m5s\u001b[0m 53ms/step - loss: 0.0036 - mean_absolute_percentage_error: 7.5271 - mean_squared_error: 0.0036\n",
      "Epoch 12/50\n",
      "\u001b[1m100/100\u001b[0m \u001b[32m━━━━━━━━━━━━━━━━━━━━\u001b[0m\u001b[37m\u001b[0m \u001b[1m5s\u001b[0m 51ms/step - loss: 0.0033 - mean_absolute_percentage_error: 6.0500 - mean_squared_error: 0.0033\n",
      "Epoch 13/50\n",
      "\u001b[1m100/100\u001b[0m \u001b[32m━━━━━━━━━━━━━━━━━━━━\u001b[0m\u001b[37m\u001b[0m \u001b[1m5s\u001b[0m 49ms/step - loss: 0.0034 - mean_absolute_percentage_error: 8.9421 - mean_squared_error: 0.0034\n",
      "Epoch 14/50\n",
      "\u001b[1m100/100\u001b[0m \u001b[32m━━━━━━━━━━━━━━━━━━━━\u001b[0m\u001b[37m\u001b[0m \u001b[1m5s\u001b[0m 44ms/step - loss: 0.0033 - mean_absolute_percentage_error: 19.1828 - mean_squared_error: 0.0033\n",
      "Epoch 15/50\n",
      "\u001b[1m100/100\u001b[0m \u001b[32m━━━━━━━━━━━━━━━━━━━━\u001b[0m\u001b[37m\u001b[0m \u001b[1m4s\u001b[0m 41ms/step - loss: 0.0031 - mean_absolute_percentage_error: 7.9729 - mean_squared_error: 0.0031\n",
      "Epoch 16/50\n",
      "\u001b[1m100/100\u001b[0m \u001b[32m━━━━━━━━━━━━━━━━━━━━\u001b[0m\u001b[37m\u001b[0m \u001b[1m5s\u001b[0m 46ms/step - loss: 0.0031 - mean_absolute_percentage_error: 6.5226 - mean_squared_error: 0.0031\n",
      "Epoch 17/50\n",
      "\u001b[1m100/100\u001b[0m \u001b[32m━━━━━━━━━━━━━━━━━━━━\u001b[0m\u001b[37m\u001b[0m \u001b[1m5s\u001b[0m 51ms/step - loss: 0.0032 - mean_absolute_percentage_error: 7.5742 - mean_squared_error: 0.0032\n",
      "Epoch 18/50\n",
      "\u001b[1m100/100\u001b[0m \u001b[32m━━━━━━━━━━━━━━━━━━━━\u001b[0m\u001b[37m\u001b[0m \u001b[1m5s\u001b[0m 50ms/step - loss: 0.0033 - mean_absolute_percentage_error: 7.1597 - mean_squared_error: 0.0033\n",
      "Epoch 19/50\n",
      "\u001b[1m100/100\u001b[0m \u001b[32m━━━━━━━━━━━━━━━━━━━━\u001b[0m\u001b[37m\u001b[0m \u001b[1m5s\u001b[0m 51ms/step - loss: 0.0029 - mean_absolute_percentage_error: 8.4175 - mean_squared_error: 0.0029\n",
      "Epoch 20/50\n",
      "\u001b[1m100/100\u001b[0m \u001b[32m━━━━━━━━━━━━━━━━━━━━\u001b[0m\u001b[37m\u001b[0m \u001b[1m5s\u001b[0m 51ms/step - loss: 0.0034 - mean_absolute_percentage_error: 9.2349 - mean_squared_error: 0.0034\n",
      "Epoch 21/50\n",
      "\u001b[1m100/100\u001b[0m \u001b[32m━━━━━━━━━━━━━━━━━━━━\u001b[0m\u001b[37m\u001b[0m \u001b[1m6s\u001b[0m 58ms/step - loss: 0.0029 - mean_absolute_percentage_error: 8.2366 - mean_squared_error: 0.0029\n",
      "Epoch 22/50\n",
      "\u001b[1m100/100\u001b[0m \u001b[32m━━━━━━━━━━━━━━━━━━━━\u001b[0m\u001b[37m\u001b[0m \u001b[1m7s\u001b[0m 21ms/step - loss: 0.0030 - mean_absolute_percentage_error: 6.6518 - mean_squared_error: 0.0030\n",
      "Epoch 23/50\n",
      "\u001b[1m100/100\u001b[0m \u001b[32m━━━━━━━━━━━━━━━━━━━━\u001b[0m\u001b[37m\u001b[0m \u001b[1m2s\u001b[0m 20ms/step - loss: 0.0028 - mean_absolute_percentage_error: 6.4629 - mean_squared_error: 0.0028\n",
      "Epoch 24/50\n",
      "\u001b[1m100/100\u001b[0m \u001b[32m━━━━━━━━━━━━━━━━━━━━\u001b[0m\u001b[37m\u001b[0m \u001b[1m2s\u001b[0m 18ms/step - loss: 0.0025 - mean_absolute_percentage_error: 7.7570 - mean_squared_error: 0.0025\n",
      "Epoch 25/50\n",
      "\u001b[1m100/100\u001b[0m \u001b[32m━━━━━━━━━━━━━━━━━━━━\u001b[0m\u001b[37m\u001b[0m \u001b[1m2s\u001b[0m 21ms/step - loss: 0.0026 - mean_absolute_percentage_error: 8.1868 - mean_squared_error: 0.0026\n",
      "Epoch 26/50\n",
      "\u001b[1m100/100\u001b[0m \u001b[32m━━━━━━━━━━━━━━━━━━━━\u001b[0m\u001b[37m\u001b[0m \u001b[1m2s\u001b[0m 25ms/step - loss: 0.0026 - mean_absolute_percentage_error: 7.8592 - mean_squared_error: 0.0026\n",
      "Epoch 27/50\n",
      "\u001b[1m100/100\u001b[0m \u001b[32m━━━━━━━━━━━━━━━━━━━━\u001b[0m\u001b[37m\u001b[0m \u001b[1m2s\u001b[0m 15ms/step - loss: 0.0027 - mean_absolute_percentage_error: 8.3568 - mean_squared_error: 0.0027\n",
      "Epoch 28/50\n",
      "\u001b[1m100/100\u001b[0m \u001b[32m━━━━━━━━━━━━━━━━━━━━\u001b[0m\u001b[37m\u001b[0m \u001b[1m2s\u001b[0m 22ms/step - loss: 0.0027 - mean_absolute_percentage_error: 6.1165 - mean_squared_error: 0.0027\n",
      "Epoch 29/50\n",
      "\u001b[1m100/100\u001b[0m \u001b[32m━━━━━━━━━━━━━━━━━━━━\u001b[0m\u001b[37m\u001b[0m \u001b[1m2s\u001b[0m 20ms/step - loss: 0.0027 - mean_absolute_percentage_error: 7.2648 - mean_squared_error: 0.0027\n",
      "Epoch 30/50\n",
      "\u001b[1m100/100\u001b[0m \u001b[32m━━━━━━━━━━━━━━━━━━━━\u001b[0m\u001b[37m\u001b[0m \u001b[1m3s\u001b[0m 25ms/step - loss: 0.0026 - mean_absolute_percentage_error: 6.9456 - mean_squared_error: 0.0026\n",
      "Epoch 31/50\n",
      "\u001b[1m100/100\u001b[0m \u001b[32m━━━━━━━━━━━━━━━━━━━━\u001b[0m\u001b[37m\u001b[0m \u001b[1m5s\u001b[0m 50ms/step - loss: 0.0027 - mean_absolute_percentage_error: 6.4213 - mean_squared_error: 0.0027\n",
      "Epoch 32/50\n",
      "\u001b[1m100/100\u001b[0m \u001b[32m━━━━━━━━━━━━━━━━━━━━\u001b[0m\u001b[37m\u001b[0m \u001b[1m6s\u001b[0m 59ms/step - loss: 0.0027 - mean_absolute_percentage_error: 6.2108 - mean_squared_error: 0.0027\n",
      "Epoch 33/50\n",
      "\u001b[1m100/100\u001b[0m \u001b[32m━━━━━━━━━━━━━━━━━━━━\u001b[0m\u001b[37m\u001b[0m \u001b[1m2s\u001b[0m 20ms/step - loss: 0.0025 - mean_absolute_percentage_error: 9.1795 - mean_squared_error: 0.0025\n",
      "Epoch 34/50\n",
      "\u001b[1m100/100\u001b[0m \u001b[32m━━━━━━━━━━━━━━━━━━━━\u001b[0m\u001b[37m\u001b[0m \u001b[1m2s\u001b[0m 19ms/step - loss: 0.0026 - mean_absolute_percentage_error: 7.3760 - mean_squared_error: 0.0026\n",
      "Epoch 35/50\n",
      "\u001b[1m100/100\u001b[0m \u001b[32m━━━━━━━━━━━━━━━━━━━━\u001b[0m\u001b[37m\u001b[0m \u001b[1m2s\u001b[0m 20ms/step - loss: 0.0025 - mean_absolute_percentage_error: 8.2160 - mean_squared_error: 0.0025\n",
      "Epoch 36/50\n",
      "\u001b[1m100/100\u001b[0m \u001b[32m━━━━━━━━━━━━━━━━━━━━\u001b[0m\u001b[37m\u001b[0m \u001b[1m3s\u001b[0m 26ms/step - loss: 0.0021 - mean_absolute_percentage_error: 5.3495 - mean_squared_error: 0.0021\n",
      "Epoch 37/50\n",
      "\u001b[1m100/100\u001b[0m \u001b[32m━━━━━━━━━━━━━━━━━━━━\u001b[0m\u001b[37m\u001b[0m \u001b[1m3s\u001b[0m 30ms/step - loss: 0.0022 - mean_absolute_percentage_error: 5.8908 - mean_squared_error: 0.0022\n",
      "Epoch 38/50\n",
      "\u001b[1m100/100\u001b[0m \u001b[32m━━━━━━━━━━━━━━━━━━━━\u001b[0m\u001b[37m\u001b[0m \u001b[1m4s\u001b[0m 21ms/step - loss: 0.0022 - mean_absolute_percentage_error: 5.9201 - mean_squared_error: 0.0022\n",
      "Epoch 39/50\n",
      "\u001b[1m100/100\u001b[0m \u001b[32m━━━━━━━━━━━━━━━━━━━━\u001b[0m\u001b[37m\u001b[0m \u001b[1m4s\u001b[0m 37ms/step - loss: 0.0025 - mean_absolute_percentage_error: 5.8326 - mean_squared_error: 0.0025\n",
      "Epoch 40/50\n",
      "\u001b[1m100/100\u001b[0m \u001b[32m━━━━━━━━━━━━━━━━━━━━\u001b[0m\u001b[37m\u001b[0m \u001b[1m3s\u001b[0m 25ms/step - loss: 0.0024 - mean_absolute_percentage_error: 5.2209 - mean_squared_error: 0.0024\n",
      "Epoch 41/50\n",
      "\u001b[1m100/100\u001b[0m \u001b[32m━━━━━━━━━━━━━━━━━━━━\u001b[0m\u001b[37m\u001b[0m \u001b[1m3s\u001b[0m 27ms/step - loss: 0.0022 - mean_absolute_percentage_error: 5.1314 - mean_squared_error: 0.0022\n",
      "Epoch 42/50\n",
      "\u001b[1m100/100\u001b[0m \u001b[32m━━━━━━━━━━━━━━━━━━━━\u001b[0m\u001b[37m\u001b[0m \u001b[1m3s\u001b[0m 31ms/step - loss: 0.0023 - mean_absolute_percentage_error: 8.2368 - mean_squared_error: 0.0023\n",
      "Epoch 43/50\n",
      "\u001b[1m100/100\u001b[0m \u001b[32m━━━━━━━━━━━━━━━━━━━━\u001b[0m\u001b[37m\u001b[0m \u001b[1m3s\u001b[0m 32ms/step - loss: 0.0019 - mean_absolute_percentage_error: 5.7242 - mean_squared_error: 0.0019\n",
      "Epoch 44/50\n",
      "\u001b[1m100/100\u001b[0m \u001b[32m━━━━━━━━━━━━━━━━━━━━\u001b[0m\u001b[37m\u001b[0m \u001b[1m3s\u001b[0m 27ms/step - loss: 0.0024 - mean_absolute_percentage_error: 5.5997 - mean_squared_error: 0.0024\n",
      "Epoch 45/50\n",
      "\u001b[1m100/100\u001b[0m \u001b[32m━━━━━━━━━━━━━━━━━━━━\u001b[0m\u001b[37m\u001b[0m \u001b[1m3s\u001b[0m 25ms/step - loss: 0.0020 - mean_absolute_percentage_error: 5.1569 - mean_squared_error: 0.0020\n",
      "Epoch 46/50\n",
      "\u001b[1m100/100\u001b[0m \u001b[32m━━━━━━━━━━━━━━━━━━━━\u001b[0m\u001b[37m\u001b[0m \u001b[1m3s\u001b[0m 27ms/step - loss: 0.0021 - mean_absolute_percentage_error: 8.3394 - mean_squared_error: 0.0021\n",
      "Epoch 47/50\n",
      "\u001b[1m100/100\u001b[0m \u001b[32m━━━━━━━━━━━━━━━━━━━━\u001b[0m\u001b[37m\u001b[0m \u001b[1m2s\u001b[0m 16ms/step - loss: 0.0025 - mean_absolute_percentage_error: 5.2323 - mean_squared_error: 0.0025\n",
      "Epoch 48/50\n",
      "\u001b[1m100/100\u001b[0m \u001b[32m━━━━━━━━━━━━━━━━━━━━\u001b[0m\u001b[37m\u001b[0m \u001b[1m2s\u001b[0m 20ms/step - loss: 0.0020 - mean_absolute_percentage_error: 9.6259 - mean_squared_error: 0.0020\n",
      "Epoch 49/50\n",
      "\u001b[1m100/100\u001b[0m \u001b[32m━━━━━━━━━━━━━━━━━━━━\u001b[0m\u001b[37m\u001b[0m \u001b[1m3s\u001b[0m 28ms/step - loss: 0.0020 - mean_absolute_percentage_error: 10.1637 - mean_squared_error: 0.0020\n",
      "Epoch 50/50\n",
      "\u001b[1m100/100\u001b[0m \u001b[32m━━━━━━━━━━━━━━━━━━━━\u001b[0m\u001b[37m\u001b[0m \u001b[1m2s\u001b[0m 25ms/step - loss: 0.0020 - mean_absolute_percentage_error: 6.0016 - mean_squared_error: 0.0020\n",
      "\u001b[1m32/32\u001b[0m \u001b[32m━━━━━━━━━━━━━━━━━━━━\u001b[0m\u001b[37m\u001b[0m \u001b[1m0s\u001b[0m 10ms/step - loss: 0.0020 - mean_absolute_percentage_error: 5.3166 - mean_squared_error: 0.0020\n",
      "Mean Loss on Training Data: 0.0019494649022817612\n",
      "Mean Squared Error on Training Data: 0.0019494649022817612\n",
      "Mean Absolute Percentage Error on Training Data: 6.846222400665283\n"
     ]
    },
    {
     "data": {
      "text/html": [
       "<pre style=\"white-space:pre;overflow-x:auto;line-height:normal;font-family:Menlo,'DejaVu Sans Mono',consolas,'Courier New',monospace\"><span style=\"font-weight: bold\">Model: \"sequential_7\"</span>\n",
       "</pre>\n"
      ],
      "text/plain": [
       "\u001b[1mModel: \"sequential_7\"\u001b[0m\n"
      ]
     },
     "metadata": {},
     "output_type": "display_data"
    },
    {
     "data": {
      "text/html": [
       "<pre style=\"white-space:pre;overflow-x:auto;line-height:normal;font-family:Menlo,'DejaVu Sans Mono',consolas,'Courier New',monospace\">┏━━━━━━━━━━━━━━━━━━━━━━━━━━━━━━━━━┳━━━━━━━━━━━━━━━━━━━━━━━━┳━━━━━━━━━━━━━━━┓\n",
       "┃<span style=\"font-weight: bold\"> Layer (type)                    </span>┃<span style=\"font-weight: bold\"> Output Shape           </span>┃<span style=\"font-weight: bold\">       Param # </span>┃\n",
       "┡━━━━━━━━━━━━━━━━━━━━━━━━━━━━━━━━━╇━━━━━━━━━━━━━━━━━━━━━━━━╇━━━━━━━━━━━━━━━┩\n",
       "│ dense_16 (<span style=\"color: #0087ff; text-decoration-color: #0087ff\">Dense</span>)                │ (<span style=\"color: #00d7ff; text-decoration-color: #00d7ff\">None</span>, <span style=\"color: #00af00; text-decoration-color: #00af00\">3</span>)              │             <span style=\"color: #00af00; text-decoration-color: #00af00\">9</span> │\n",
       "├─────────────────────────────────┼────────────────────────┼───────────────┤\n",
       "│ dense_17 (<span style=\"color: #0087ff; text-decoration-color: #0087ff\">Dense</span>)                │ (<span style=\"color: #00d7ff; text-decoration-color: #00d7ff\">None</span>, <span style=\"color: #00af00; text-decoration-color: #00af00\">1</span>)              │             <span style=\"color: #00af00; text-decoration-color: #00af00\">4</span> │\n",
       "└─────────────────────────────────┴────────────────────────┴───────────────┘\n",
       "</pre>\n"
      ],
      "text/plain": [
       "┏━━━━━━━━━━━━━━━━━━━━━━━━━━━━━━━━━┳━━━━━━━━━━━━━━━━━━━━━━━━┳━━━━━━━━━━━━━━━┓\n",
       "┃\u001b[1m \u001b[0m\u001b[1mLayer (type)                   \u001b[0m\u001b[1m \u001b[0m┃\u001b[1m \u001b[0m\u001b[1mOutput Shape          \u001b[0m\u001b[1m \u001b[0m┃\u001b[1m \u001b[0m\u001b[1m      Param #\u001b[0m\u001b[1m \u001b[0m┃\n",
       "┡━━━━━━━━━━━━━━━━━━━━━━━━━━━━━━━━━╇━━━━━━━━━━━━━━━━━━━━━━━━╇━━━━━━━━━━━━━━━┩\n",
       "│ dense_16 (\u001b[38;5;33mDense\u001b[0m)                │ (\u001b[38;5;45mNone\u001b[0m, \u001b[38;5;34m3\u001b[0m)              │             \u001b[38;5;34m9\u001b[0m │\n",
       "├─────────────────────────────────┼────────────────────────┼───────────────┤\n",
       "│ dense_17 (\u001b[38;5;33mDense\u001b[0m)                │ (\u001b[38;5;45mNone\u001b[0m, \u001b[38;5;34m1\u001b[0m)              │             \u001b[38;5;34m4\u001b[0m │\n",
       "└─────────────────────────────────┴────────────────────────┴───────────────┘\n"
      ]
     },
     "metadata": {},
     "output_type": "display_data"
    },
    {
     "data": {
      "text/html": [
       "<pre style=\"white-space:pre;overflow-x:auto;line-height:normal;font-family:Menlo,'DejaVu Sans Mono',consolas,'Courier New',monospace\"><span style=\"font-weight: bold\"> Total params: </span><span style=\"color: #00af00; text-decoration-color: #00af00\">15</span> (64.00 B)\n",
       "</pre>\n"
      ],
      "text/plain": [
       "\u001b[1m Total params: \u001b[0m\u001b[38;5;34m15\u001b[0m (64.00 B)\n"
      ]
     },
     "metadata": {},
     "output_type": "display_data"
    },
    {
     "data": {
      "text/html": [
       "<pre style=\"white-space:pre;overflow-x:auto;line-height:normal;font-family:Menlo,'DejaVu Sans Mono',consolas,'Courier New',monospace\"><span style=\"font-weight: bold\"> Trainable params: </span><span style=\"color: #00af00; text-decoration-color: #00af00\">13</span> (52.00 B)\n",
       "</pre>\n"
      ],
      "text/plain": [
       "\u001b[1m Trainable params: \u001b[0m\u001b[38;5;34m13\u001b[0m (52.00 B)\n"
      ]
     },
     "metadata": {},
     "output_type": "display_data"
    },
    {
     "data": {
      "text/html": [
       "<pre style=\"white-space:pre;overflow-x:auto;line-height:normal;font-family:Menlo,'DejaVu Sans Mono',consolas,'Courier New',monospace\"><span style=\"font-weight: bold\"> Non-trainable params: </span><span style=\"color: #00af00; text-decoration-color: #00af00\">0</span> (0.00 B)\n",
       "</pre>\n"
      ],
      "text/plain": [
       "\u001b[1m Non-trainable params: \u001b[0m\u001b[38;5;34m0\u001b[0m (0.00 B)\n"
      ]
     },
     "metadata": {},
     "output_type": "display_data"
    },
    {
     "data": {
      "text/html": [
       "<pre style=\"white-space:pre;overflow-x:auto;line-height:normal;font-family:Menlo,'DejaVu Sans Mono',consolas,'Courier New',monospace\"><span style=\"font-weight: bold\"> Optimizer params: </span><span style=\"color: #00af00; text-decoration-color: #00af00\">2</span> (12.00 B)\n",
       "</pre>\n"
      ],
      "text/plain": [
       "\u001b[1m Optimizer params: \u001b[0m\u001b[38;5;34m2\u001b[0m (12.00 B)\n"
      ]
     },
     "metadata": {},
     "output_type": "display_data"
    }
   ],
   "source": [
    "tf.config.run_functions_eagerly(True)\n",
    "\n",
    "#Generating dataset for regression\n",
    "np.random.seed(0)\n",
    "num_samples = 1000\n",
    "\n",
    "# Features: Three independent variables\n",
    "x1 = np.random.uniform(0, 1, num_samples)\n",
    "x2 = np.random.uniform(0, 1, num_samples)\n",
    "\n",
    "# Combine the features into a NumPy array\n",
    "Input = np.column_stack((x1, x2))\n",
    "\n",
    "# Target: A linear combination of the features\n",
    "y = 2 * x1 + 3 * x2 - 1\n",
    "\n",
    "# Define the model\n",
    "model = Sequential([\n",
    "    Dense(3, input_dim=2, activation='sigmoid'),  # Hidden layer with 3 neurons\n",
    "    Dense(1, activation='linear')  # Output layer with 1 neuron\n",
    "])\n",
    "\n",
    "# Compile the model with Stochastic Gradient Descent (SGD) optimizer\n",
    "model.compile(optimizer=SGD(learning_rate=0.1), loss='mean_squared_error',\n",
    "              metrics=[MeanSquaredError(), MeanAbsolutePercentageError()],\n",
    "              run_eagerly=True)\n",
    "\n",
    "# Batch size를 10으로 설정\n",
    "# Batch size가 작으면 시간이 오래 걸리기 때문에 10으로 설정정\n",
    "epochs = 50\n",
    "history = model.fit(Input, y, epochs=epochs, batch_size=10)\n",
    "\n",
    "# Evaluate the model on the training set\n",
    "evaluation_metrics = model.evaluate(Input, y)\n",
    "print(\"Mean Loss on Training Data:\", evaluation_metrics[0])\n",
    "print(\"Mean Squared Error on Training Data:\", evaluation_metrics[1])\n",
    "print(\"Mean Absolute Percentage Error on Training Data:\", evaluation_metrics[2])\n",
    "\n",
    "# Summary of the model\n",
    "model.summary()"
   ]
  },
  {
   "cell_type": "code",
   "execution_count": 149,
   "id": "8c3b06ea",
   "metadata": {},
   "outputs": [
    {
     "data": {
      "image/png": "[encoded data removed]",
      "text/plain": [
       "<Figure size 1200x400 with 2 Axes>"
      ]
     },
     "metadata": {},
     "output_type": "display_data"
    }
   ],
   "source": [
    "# 시각화\n",
    "plt.figure(figsize=(12, 4))\n",
    "plt.subplot(1, 2, 1)\n",
    "plt.title(\"MSE by Epoch\")\n",
    "plt.plot(np.arange(1,epochs+1), history.history['mean_squared_error'], label='MSE', linewidth=1.5, color='b')\n",
    "plt.xlabel('Epoch')\n",
    "plt.ylabel('Mean Squared Error')\n",
    "plt.legend()\n",
    "plt.grid()\n",
    "\n",
    "plt.subplot(1, 2, 2)\n",
    "plt.title(\"MAPE by Epoch\")\n",
    "plt.plot(np.arange(1, epochs + 1), history.history['mean_absolute_percentage_error'], label = 'MAPE', linewidth=1.5, color='r')\n",
    "plt.xlabel('Epoch')\n",
    "plt.ylabel('Mean Absolute Percentage Error(%)')\n",
    "plt.legend()\n",
    "plt.grid(True)\n",
    "plt.show()"
   ]
  }
 ],
 "metadata": {
  "kernelspec": {
   "display_name": "Python 3",
   "language": "python",
   "name": "python3"
  },
  "language_info": {
   "codemirror_mode": {
    "name": "ipython",
    "version": 3
   },
   "file_extension": ".py",
   "mimetype": "text/x-python",
   "name": "python",
   "nbconvert_exporter": "python",
   "pygments_lexer": "ipython3",
   "version": "3.12.8"
  }
 },
 "nbformat": 4,
 "nbformat_minor": 5
}
